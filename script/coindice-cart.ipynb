{
 "cells": [
  {
   "cell_type": "code",
   "execution_count": null,
   "metadata": {},
   "outputs": [],
   "source": [
    "from _util import *\n",
    "\n",
    "import _RL.FQI as FQI\n",
    "import _RL.my_gym as my_gym\n",
    "import _Ohio_Simulator as Ohio\n",
    "import _analyze as analyze\n",
    "import _RL.DQN as DQN\n",
    "import _cartpole as cartpole\n",
    "from coinDice import run_neural_coin_dice as run_coin\n",
    "from coinDice import converter as converter\n",
    "\n",
    "os.environ[\"OMP_NUM_THREADS\"] = \"1\"\n",
    "os.environ[\"MKL_NUM_THREADS\"] = \"1\"\n",
    "os.environ[\"OPENBLAS_NUM_THREADS\"] = \"1\"\n",
    "os.environ[\"VECLIB_MAXIMUM_THREADS\"] = \"1\"\n",
    "os.environ[\"NUMEXPR_NUM_THREADS\"] = \"1\"\n",
    "\n",
    "reload(converter)\n",
    "reload(run_coin)"
   ]
  },
  {
   "cell_type": "markdown",
   "metadata": {},
   "source": [
    "1. we can either store the data generated from TR, or re-generate it "
   ]
  },
  {
   "cell_type": "markdown",
   "metadata": {},
   "source": [
    "## N10, T = 300, tau = 0.3, algae_alpha = 0.05"
   ]
  },
  {
   "cell_type": "code",
   "execution_count": 2,
   "metadata": {},
   "outputs": [
    {
     "name": "stdout",
     "output_type": "stream",
     "text": [
      "\u001b[31msetting: 1105_cart_coindice_N10_T300_tau_0.3\u001b[0m\n",
      "\u001b[31mV_true = 44.62911337541588\u001b[0m\n"
     ]
    }
   ],
   "source": [
    "###################################################################################################################\n",
    "unique_setting = \"cart_coindice\"\n",
    "n_gpu = 8\n",
    "rep = 200\n",
    "####\n",
    "tau = 0.3\n",
    "N = 10\n",
    "T = 300\n",
    "####\n",
    "########################################################################\n",
    "gamma = .98\n",
    "env = cartpole.CartPoleEnv(e_max = 1000, std = 0.01)\n",
    "setting_no_time = unique_setting + \"_\" + \"N\" + str(N) + \"_\" + \"T\" + str(T) +  \"_\" + \"tau\" + \"_\" + str(tau)\n",
    "setting = EST()[7:9] + EST()[10:13]+ \"_\"  + setting_no_time\n",
    "printR(\"setting: {}\".format(setting))\n",
    "############ \n",
    "\n",
    "data_path = \"data/\" + \"1103_cart_T300_Q_N\" + str(N) + \"_T300_initQ0.99_tau_\" + str(tau) + \"Qs\"\n",
    "##################################################################################################################\n",
    "weight_path = \"target_policies/\" + \"cartpole\" + \"g\" + str(0.99)\n",
    "tp_path = weight_path + \"/iter\" + str(20000)\n",
    "\n",
    "pi1 = DQN.DQN_gym(num_states = 4, num_actions = 2\n",
    "                  , hidden_units = [256, 256], gamma = gamma\n",
    "                  , gpu_number = 0)\n",
    "pi1.model.load_weights(tp_path)\n",
    "#########################################################\n",
    "pi_behav = my_gym.softmax_policy(pi1, tau)\n",
    "\n",
    "gym_eval = my_gym.GymEval(random_pi = True)\n",
    "\n",
    "try:\n",
    "    cart_data = load(data_path)\n",
    "    trajs_train_resp = cart_data[\"trajs_train_resp\"]\n",
    "    V_true = cart_data[\"V_true\"]\n",
    "except:\n",
    "    pass\n",
    "    # cart_data = {\n",
    "    #     \"training\" : trajs_train_resp\n",
    "    #     , \"V_true\" : V_true\n",
    "    # }\n",
    "    # dump(cart_data, \"data/\" + setting_no_time)\n",
    "\n",
    "###################################################################################################################\n",
    "tf.keras.backend.set_floatx('float32')\n",
    "printR(\"V_true = {}\".format(V_true))"
   ]
  },
  {
   "cell_type": "code",
   "execution_count": null,
   "metadata": {
    "collapsed": true,
    "jupyter": {
     "outputs_hidden": true
    }
   },
   "outputs": [
    {
     "name": "stderr",
     "output_type": "stream",
     "text": [
      "2020-11-05 18:06:03,402\tINFO services.py:1166 -- View the Ray dashboard at \u001b[1m\u001b[32mhttp://127.0.0.1:8265\u001b[39m\u001b[22m\n",
      "2020-11-05 18:06:45,719\tWARNING worker.py:1072 -- Warning: The remote function __main__.one_seed1 has size 159391908 when pickled. It will be stored in Redis, which could cause memory issues. This may mean that its definition uses a large array or other object.\n"
     ]
    },
    {
     "name": "stdout",
     "output_type": "stream",
     "text": [
      "\u001b[31mtime cost for 0-th rep = 3.2 mins with coverage = 0.125 and mean_width = 0.1444087028503418\u001b[0m\n"
     ]
    },
    {
     "name": "stderr",
     "output_type": "stream",
     "text": [
      "2020-11-05 18:09:14,737\tINFO services.py:1166 -- View the Ray dashboard at \u001b[1m\u001b[32mhttp://127.0.0.1:8265\u001b[39m\u001b[22m\n",
      "2020-11-05 18:09:58,054\tWARNING worker.py:1072 -- Warning: The remote function __main__.one_seed1 has size 159391908 when pickled. It will be stored in Redis, which could cause memory issues. This may mean that its definition uses a large array or other object.\n"
     ]
    },
    {
     "name": "stdout",
     "output_type": "stream",
     "text": [
      "\u001b[31mtime cost for 1-th rep = 6.7 mins with coverage = 0.125 and mean_width = 0.14804387092590332\u001b[0m\n"
     ]
    },
    {
     "name": "stderr",
     "output_type": "stream",
     "text": [
      "2020-11-05 18:12:47,778\tINFO services.py:1166 -- View the Ray dashboard at \u001b[1m\u001b[32mhttp://127.0.0.1:8265\u001b[39m\u001b[22m\n",
      "2020-11-05 18:13:31,170\tWARNING worker.py:1072 -- Warning: The remote function __main__.one_seed1 has size 159391908 when pickled. It will be stored in Redis, which could cause memory issues. This may mean that its definition uses a large array or other object.\n"
     ]
    },
    {
     "name": "stdout",
     "output_type": "stream",
     "text": [
      "\u001b[31mtime cost for 2-th rep = 10.4 mins with coverage = 0.16666666666666666 and mean_width = 0.13914187252521515\u001b[0m\n"
     ]
    },
    {
     "name": "stderr",
     "output_type": "stream",
     "text": [
      "2020-11-05 18:16:26,652\tINFO services.py:1166 -- View the Ray dashboard at \u001b[1m\u001b[32mhttp://127.0.0.1:8265\u001b[39m\u001b[22m\n",
      "2020-11-05 18:17:09,905\tWARNING worker.py:1072 -- Warning: The remote function __main__.one_seed1 has size 159391908 when pickled. It will be stored in Redis, which could cause memory issues. This may mean that its definition uses a large array or other object.\n"
     ]
    },
    {
     "name": "stdout",
     "output_type": "stream",
     "text": [
      "\u001b[31mtime cost for 3-th rep = 13.7 mins with coverage = 0.1875 and mean_width = 0.14230704307556152\u001b[0m\n"
     ]
    },
    {
     "name": "stderr",
     "output_type": "stream",
     "text": [
      "2020-11-05 18:19:44,895\tINFO services.py:1166 -- View the Ray dashboard at \u001b[1m\u001b[32mhttp://127.0.0.1:8265\u001b[39m\u001b[22m\n",
      "2020-11-05 18:20:29,661\tWARNING worker.py:1072 -- Warning: The remote function __main__.one_seed1 has size 159391908 when pickled. It will be stored in Redis, which could cause memory issues. This may mean that its definition uses a large array or other object.\n"
     ]
    },
    {
     "name": "stdout",
     "output_type": "stream",
     "text": [
      "\u001b[31mtime cost for 4-th rep = 17.3 mins with coverage = 0.2 and mean_width = 0.14392653107643127\u001b[0m\n"
     ]
    },
    {
     "name": "stderr",
     "output_type": "stream",
     "text": [
      "2020-11-05 18:23:22,447\tINFO services.py:1166 -- View the Ray dashboard at \u001b[1m\u001b[32mhttp://127.0.0.1:8265\u001b[39m\u001b[22m\n",
      "2020-11-05 18:24:05,770\tWARNING worker.py:1072 -- Warning: The remote function __main__.one_seed1 has size 159391908 when pickled. It will be stored in Redis, which could cause memory issues. This may mean that its definition uses a large array or other object.\n"
     ]
    },
    {
     "name": "stdout",
     "output_type": "stream",
     "text": [
      "\u001b[31mtime cost for 5-th rep = 20.9 mins with coverage = 0.1875 and mean_width = 0.14933092892169952\u001b[0m\n"
     ]
    },
    {
     "name": "stderr",
     "output_type": "stream",
     "text": [
      "2020-11-05 18:26:59,033\tINFO services.py:1166 -- View the Ray dashboard at \u001b[1m\u001b[32mhttp://127.0.0.1:8265\u001b[39m\u001b[22m\n",
      "2020-11-05 18:27:43,522\tWARNING worker.py:1072 -- Warning: The remote function __main__.one_seed1 has size 159391908 when pickled. It will be stored in Redis, which could cause memory issues. This may mean that its definition uses a large array or other object.\n"
     ]
    },
    {
     "name": "stdout",
     "output_type": "stream",
     "text": [
      "\u001b[31mtime cost for 6-th rep = 24.3 mins with coverage = 0.19642857142857142 and mean_width = 0.15123721957206726\u001b[0m\n"
     ]
    },
    {
     "name": "stderr",
     "output_type": "stream",
     "text": [
      "2020-11-05 18:30:22,168\tINFO services.py:1166 -- View the Ray dashboard at \u001b[1m\u001b[32mhttp://127.0.0.1:8265\u001b[39m\u001b[22m\n",
      "2020-11-05 18:31:05,567\tWARNING worker.py:1072 -- Warning: The remote function __main__.one_seed1 has size 159391908 when pickled. It will be stored in Redis, which could cause memory issues. This may mean that its definition uses a large array or other object.\n"
     ]
    },
    {
     "name": "stdout",
     "output_type": "stream",
     "text": [
      "\u001b[31mtime cost for 7-th rep = 28.0 mins with coverage = 0.1875 and mean_width = 0.15029418468475342\u001b[0m\n"
     ]
    },
    {
     "name": "stderr",
     "output_type": "stream",
     "text": [
      "2020-11-05 18:34:02,466\tINFO services.py:1166 -- View the Ray dashboard at \u001b[1m\u001b[32mhttp://127.0.0.1:8265\u001b[39m\u001b[22m\n",
      "2020-11-05 18:34:45,803\tWARNING worker.py:1072 -- Warning: The remote function __main__.one_seed1 has size 159391908 when pickled. It will be stored in Redis, which could cause memory issues. This may mean that its definition uses a large array or other object.\n"
     ]
    },
    {
     "name": "stdout",
     "output_type": "stream",
     "text": [
      "\u001b[31mtime cost for 8-th rep = 31.2 mins with coverage = 0.18055555555555555 and mean_width = 0.15126541256904602\u001b[0m\n"
     ]
    },
    {
     "name": "stderr",
     "output_type": "stream",
     "text": [
      "2020-11-05 18:37:15,200\tINFO services.py:1166 -- View the Ray dashboard at \u001b[1m\u001b[32mhttp://127.0.0.1:8265\u001b[39m\u001b[22m\n",
      "2020-11-05 18:37:59,306\tWARNING worker.py:1072 -- Warning: The remote function __main__.one_seed1 has size 159391908 when pickled. It will be stored in Redis, which could cause memory issues. This may mean that its definition uses a large array or other object.\n"
     ]
    },
    {
     "name": "stdout",
     "output_type": "stream",
     "text": [
      "\u001b[31mtime cost for 9-th rep = 34.8 mins with coverage = 0.2 and mean_width = 0.1508108675479889\u001b[0m\n"
     ]
    },
    {
     "name": "stderr",
     "output_type": "stream",
     "text": [
      "2020-11-05 18:40:53,090\tINFO services.py:1166 -- View the Ray dashboard at \u001b[1m\u001b[32mhttp://127.0.0.1:8265\u001b[39m\u001b[22m\n",
      "2020-11-05 18:41:37,722\tWARNING worker.py:1072 -- Warning: The remote function __main__.one_seed1 has size 159391908 when pickled. It will be stored in Redis, which could cause memory issues. This may mean that its definition uses a large array or other object.\n"
     ]
    },
    {
     "name": "stdout",
     "output_type": "stream",
     "text": [
      "\u001b[31mtime cost for 10-th rep = 38.1 mins with coverage = 0.19318181818181818 and mean_width = 0.1520443856716156\u001b[0m\n"
     ]
    },
    {
     "name": "stderr",
     "output_type": "stream",
     "text": [
      "2020-11-05 18:44:11,468\tINFO services.py:1166 -- View the Ray dashboard at \u001b[1m\u001b[32mhttp://127.0.0.1:8265\u001b[39m\u001b[22m\n",
      "2020-11-05 18:44:54,624\tWARNING worker.py:1072 -- Warning: The remote function __main__.one_seed1 has size 159391908 when pickled. It will be stored in Redis, which could cause memory issues. This may mean that its definition uses a large array or other object.\n"
     ]
    },
    {
     "name": "stdout",
     "output_type": "stream",
     "text": [
      "\u001b[31mtime cost for 11-th rep = 42.3 mins with coverage = 0.1875 and mean_width = 0.15235669910907745\u001b[0m\n"
     ]
    },
    {
     "name": "stderr",
     "output_type": "stream",
     "text": [
      "2020-11-05 18:48:23,485\tINFO services.py:1166 -- View the Ray dashboard at \u001b[1m\u001b[32mhttp://127.0.0.1:8265\u001b[39m\u001b[22m\n",
      "2020-11-05 18:49:06,838\tWARNING worker.py:1072 -- Warning: The remote function __main__.one_seed1 has size 159391908 when pickled. It will be stored in Redis, which could cause memory issues. This may mean that its definition uses a large array or other object.\n"
     ]
    },
    {
     "name": "stdout",
     "output_type": "stream",
     "text": [
      "\u001b[31mtime cost for 12-th rep = 45.7 mins with coverage = 0.18269230769230768 and mean_width = 0.15391071140766144\u001b[0m\n"
     ]
    },
    {
     "name": "stderr",
     "output_type": "stream",
     "text": [
      "2020-11-05 18:51:47,382\tINFO services.py:1166 -- View the Ray dashboard at \u001b[1m\u001b[32mhttp://127.0.0.1:8265\u001b[39m\u001b[22m\n",
      "2020-11-05 18:52:30,759\tWARNING worker.py:1072 -- Warning: The remote function __main__.one_seed1 has size 159391908 when pickled. It will be stored in Redis, which could cause memory issues. This may mean that its definition uses a large array or other object.\n"
     ]
    },
    {
     "name": "stdout",
     "output_type": "stream",
     "text": [
      "\u001b[31mtime cost for 13-th rep = 49.1 mins with coverage = 0.19642857142857142 and mean_width = 0.15371476113796234\u001b[0m\n"
     ]
    },
    {
     "name": "stderr",
     "output_type": "stream",
     "text": [
      "2020-11-05 18:55:09,624\tINFO services.py:1166 -- View the Ray dashboard at \u001b[1m\u001b[32mhttp://127.0.0.1:8265\u001b[39m\u001b[22m\n",
      "2020-11-05 18:55:54,217\tWARNING worker.py:1072 -- Warning: The remote function __main__.one_seed1 has size 159391908 when pickled. It will be stored in Redis, which could cause memory issues. This may mean that its definition uses a large array or other object.\n"
     ]
    },
    {
     "name": "stdout",
     "output_type": "stream",
     "text": [
      "\u001b[31mtime cost for 14-th rep = 52.3 mins with coverage = 0.2 and mean_width = 0.154300719499588\u001b[0m\n"
     ]
    },
    {
     "name": "stderr",
     "output_type": "stream",
     "text": [
      "2020-11-05 18:58:20,517\tINFO services.py:1166 -- View the Ray dashboard at \u001b[1m\u001b[32mhttp://127.0.0.1:8265\u001b[39m\u001b[22m\n",
      "2020-11-05 18:59:03,985\tWARNING worker.py:1072 -- Warning: The remote function __main__.one_seed1 has size 159391908 when pickled. It will be stored in Redis, which could cause memory issues. This may mean that its definition uses a large array or other object.\n"
     ]
    },
    {
     "name": "stdout",
     "output_type": "stream",
     "text": [
      "\u001b[31mtime cost for 15-th rep = 56.0 mins with coverage = 0.2109375 and mean_width = 0.15520432591438293\u001b[0m\n"
     ]
    },
    {
     "name": "stderr",
     "output_type": "stream",
     "text": [
      "2020-11-05 19:02:06,384\tINFO services.py:1166 -- View the Ray dashboard at \u001b[1m\u001b[32mhttp://127.0.0.1:8265\u001b[39m\u001b[22m\n",
      "2020-11-05 19:02:50,880\tWARNING worker.py:1072 -- Warning: The remote function __main__.one_seed1 has size 159391908 when pickled. It will be stored in Redis, which could cause memory issues. This may mean that its definition uses a large array or other object.\n"
     ]
    },
    {
     "name": "stdout",
     "output_type": "stream",
     "text": [
      "\u001b[31mtime cost for 16-th rep = 59.3 mins with coverage = 0.20588235294117646 and mean_width = 0.15592072904109955\u001b[0m\n"
     ]
    },
    {
     "name": "stderr",
     "output_type": "stream",
     "text": [
      "2020-11-05 19:05:24,658\tINFO services.py:1166 -- View the Ray dashboard at \u001b[1m\u001b[32mhttp://127.0.0.1:8265\u001b[39m\u001b[22m\n",
      "2020-11-05 19:06:07,675\tWARNING worker.py:1072 -- Warning: The remote function __main__.one_seed1 has size 159391908 when pickled. It will be stored in Redis, which could cause memory issues. This may mean that its definition uses a large array or other object.\n"
     ]
    },
    {
     "name": "stdout",
     "output_type": "stream",
     "text": [
      "\u001b[31mtime cost for 17-th rep = 62.7 mins with coverage = 0.19444444444444445 and mean_width = 0.1562238335609436\u001b[0m\n"
     ]
    },
    {
     "name": "stderr",
     "output_type": "stream",
     "text": [
      "2020-11-05 19:08:43,097\tINFO services.py:1166 -- View the Ray dashboard at \u001b[1m\u001b[32mhttp://127.0.0.1:8265\u001b[39m\u001b[22m\n",
      "2020-11-05 19:09:26,350\tWARNING worker.py:1072 -- Warning: The remote function __main__.one_seed1 has size 159391908 when pickled. It will be stored in Redis, which could cause memory issues. This may mean that its definition uses a large array or other object.\n"
     ]
    },
    {
     "name": "stdout",
     "output_type": "stream",
     "text": [
      "\u001b[31mtime cost for 18-th rep = 66.2 mins with coverage = 0.20394736842105263 and mean_width = 0.15545149147510529\u001b[0m\n"
     ]
    },
    {
     "name": "stderr",
     "output_type": "stream",
     "text": [
      "2020-11-05 19:12:13,983\tINFO services.py:1166 -- View the Ray dashboard at \u001b[1m\u001b[32mhttp://127.0.0.1:8265\u001b[39m\u001b[22m\n",
      "2020-11-05 19:12:57,137\tWARNING worker.py:1072 -- Warning: The remote function __main__.one_seed1 has size 159391908 when pickled. It will be stored in Redis, which could cause memory issues. This may mean that its definition uses a large array or other object.\n"
     ]
    },
    {
     "name": "stdout",
     "output_type": "stream",
     "text": [
      "\u001b[31mtime cost for 19-th rep = 69.6 mins with coverage = 0.19375 and mean_width = 0.15546469390392303\u001b[0m\n"
     ]
    },
    {
     "name": "stderr",
     "output_type": "stream",
     "text": [
      "2020-11-05 19:15:40,055\tINFO services.py:1166 -- View the Ray dashboard at \u001b[1m\u001b[32mhttp://127.0.0.1:8265\u001b[39m\u001b[22m\n",
      "2020-11-05 19:16:24,529\tWARNING worker.py:1072 -- Warning: The remote function __main__.one_seed1 has size 159391908 when pickled. It will be stored in Redis, which could cause memory issues. This may mean that its definition uses a large array or other object.\n"
     ]
    },
    {
     "name": "stdout",
     "output_type": "stream",
     "text": [
      "\u001b[31mtime cost for 20-th rep = 73.5 mins with coverage = 0.19642857142857142 and mean_width = 0.15739090740680695\u001b[0m\n"
     ]
    },
    {
     "name": "stderr",
     "output_type": "stream",
     "text": [
      "2020-11-05 19:19:31,256\tINFO services.py:1166 -- View the Ray dashboard at \u001b[1m\u001b[32mhttp://127.0.0.1:8265\u001b[39m\u001b[22m\n",
      "2020-11-05 19:20:14,496\tWARNING worker.py:1072 -- Warning: The remote function __main__.one_seed1 has size 159391908 when pickled. It will be stored in Redis, which could cause memory issues. This may mean that its definition uses a large array or other object.\n"
     ]
    },
    {
     "name": "stdout",
     "output_type": "stream",
     "text": [
      "\u001b[31mtime cost for 21-th rep = 76.9 mins with coverage = 0.19886363636363635 and mean_width = 0.15715433657169342\u001b[0m\n"
     ]
    },
    {
     "name": "stderr",
     "output_type": "stream",
     "text": [
      "2020-11-05 19:23:00,508\tINFO services.py:1166 -- View the Ray dashboard at \u001b[1m\u001b[32mhttp://127.0.0.1:8265\u001b[39m\u001b[22m\n",
      "2020-11-05 19:23:45,010\tWARNING worker.py:1072 -- Warning: The remote function __main__.one_seed1 has size 159391908 when pickled. It will be stored in Redis, which could cause memory issues. This may mean that its definition uses a large array or other object.\n"
     ]
    },
    {
     "name": "stdout",
     "output_type": "stream",
     "text": [
      "\u001b[31mtime cost for 22-th rep = 80.4 mins with coverage = 0.20108695652173914 and mean_width = 0.15698908269405365\u001b[0m\n"
     ]
    },
    {
     "name": "stderr",
     "output_type": "stream",
     "text": [
      "2020-11-05 19:26:30,059\tINFO services.py:1166 -- View the Ray dashboard at \u001b[1m\u001b[32mhttp://127.0.0.1:8265\u001b[39m\u001b[22m\n",
      "2020-11-05 19:27:13,090\tWARNING worker.py:1072 -- Warning: The remote function __main__.one_seed1 has size 159391908 when pickled. It will be stored in Redis, which could cause memory issues. This may mean that its definition uses a large array or other object.\n"
     ]
    },
    {
     "name": "stdout",
     "output_type": "stream",
     "text": [
      "\u001b[31mtime cost for 23-th rep = 83.8 mins with coverage = 0.203125 and mean_width = 0.15753501653671265\u001b[0m\n",
      "\u001b[31mres/coindice_cartpole_alpha_0.9N_10tau_0.3algae_alpha_0.05lr_0.005bs_32\u001b[0m\n"
     ]
    }
   ],
   "source": [
    "rep = 200\n",
    "alpha_CI = 0.9\n",
    "###########\n",
    "lr = 0.005\n",
    "batch_size = 32\n",
    "algae_alpha = 0.05\n",
    "ray.shutdown()\n",
    "a = now()\n",
    "res_all = []\n",
    "for i in range(rep // n_gpu):\n",
    "    @ray.remote(num_gpus=1)\n",
    "    def one_seed1(seed):\n",
    "        gpu_idx = seed % n_gpu\n",
    "        pi1 = DQN.DQN_gym(num_states = 4, num_actions = 2\n",
    "                          , hidden_units = [256, 256], gamma = gamma\n",
    "                          , gpu_number = gpu_idx)\n",
    "        pi1.model.load_weights(tp_path)\n",
    "        dataset = converter.convertDataset(trajs_train_resp[seed]\n",
    "                                      , min_A = 0, max_A = 1\n",
    "                                       , min_S = -5, max_S = 5)\n",
    "        CI = run_coin.coindice(dataset = dataset, pi1 = pi1, N = N, T = T, gamma = gamma\n",
    "                      , hidden_dims = (64, ), gpu_number = gpu_idx\n",
    "                 , nu_learning_rate = lr, zeta_learning_rate = lr, weight_learning_rate = lr ### ????\n",
    "                 , nu_regularizer = 1, zeta_regularizer = 1 # NOT SENSITIVE\n",
    "                 , num_steps = 2000, batch_size = batch_size, alpha_CI = alpha_CI\n",
    "                 , print_loss = 0, print_freq = 50, print_prog = 0\n",
    "                 , primal_form = True, f_exponent = 1.5, algae_alpha = algae_alpha)\n",
    "        return CI\n",
    "    ray.init()\n",
    "    ###########\n",
    "    futures = [one_seed1.remote(j) for j in range(n_gpu * i, n_gpu * (i + 1))]\n",
    "    res = ray.get(futures)\n",
    "    ray.shutdown()\n",
    "    res_all.append(res)\n",
    "    arr_res_all = np.vstack(res_all)\n",
    "    coverage = (arr_res_all[:, 0] < V_true) * (arr_res_all[:, 1] > V_true)\n",
    "    mean_width = mean(arr_res_all[:, 1] - arr_res_all[:, 0])\n",
    "    printR(\"time cost for {}-th rep = {:.1f} mins with coverage = {} and mean_width = {}\".format(i, (now() - a) / 60\n",
    "                                                                                                 , sum(coverage) / len(coverage)\n",
    "                                                                                                , mean_width))\n",
    "res_this_setting = {\"CIs\" : arr_res_all\n",
    "                   , \"coverage\" : coverage\n",
    "                   , \"mean_width\" : mean_width}\n",
    "setting = \"coindice_\" + \"cartpole_\" + \"alpha_\" + str(alpha_CI) + \"N_\" + str(N) + \"tau_\" + str(tau) \n",
    "setting = setting + \"algae_alpha_\" + str(algae_alpha) + \"lr_\" + str(lr)  + \"bs_\" + str(batch_size)\n",
    "path = \"res/\" + setting\n",
    "printR(path)\n",
    "dump(res_this_setting, path)"
   ]
  },
  {
   "cell_type": "code",
   "execution_count": 8,
   "metadata": {
    "collapsed": true,
    "jupyter": {
     "outputs_hidden": true
    }
   },
   "outputs": [
    {
     "name": "stdout",
     "output_type": "stream",
     "text": [
      "\u001b[31mres/coindice_cartpole_alpha_0.95N_10tau_0.3algae_alpha_0.05lr_0.005bs_32\u001b[0m\n"
     ]
    },
    {
     "name": "stderr",
     "output_type": "stream",
     "text": [
      "2020-11-05 23:20:39,451\tINFO services.py:1166 -- View the Ray dashboard at \u001b[1m\u001b[32mhttp://127.0.0.1:8265\u001b[39m\u001b[22m\n",
      "2020-11-05 23:21:24,083\tWARNING worker.py:1072 -- Warning: The remote function __main__.one_seed1 has size 159391908 when pickled. It will be stored in Redis, which could cause memory issues. This may mean that its definition uses a large array or other object.\n"
     ]
    },
    {
     "name": "stdout",
     "output_type": "stream",
     "text": [
      "\u001b[31mtime cost for 0-th rep = 3.2 mins with coverage = 0.125 and mean_width = 0.1735401153564453\u001b[0m\n"
     ]
    },
    {
     "name": "stderr",
     "output_type": "stream",
     "text": [
      "2020-11-05 23:23:54,072\tINFO services.py:1166 -- View the Ray dashboard at \u001b[1m\u001b[32mhttp://127.0.0.1:8265\u001b[39m\u001b[22m\n",
      "2020-11-05 23:24:37,857\tWARNING worker.py:1072 -- Warning: The remote function __main__.one_seed1 has size 159391908 when pickled. It will be stored in Redis, which could cause memory issues. This may mean that its definition uses a large array or other object.\n"
     ]
    },
    {
     "name": "stdout",
     "output_type": "stream",
     "text": [
      "\u001b[31mtime cost for 1-th rep = 6.8 mins with coverage = 0.25 and mean_width = 0.18036293983459473\u001b[0m\n"
     ]
    },
    {
     "name": "stderr",
     "output_type": "stream",
     "text": [
      "2020-11-05 23:27:25,293\tINFO services.py:1166 -- View the Ray dashboard at \u001b[1m\u001b[32mhttp://127.0.0.1:8265\u001b[39m\u001b[22m\n",
      "2020-11-05 23:28:11,123\tWARNING worker.py:1072 -- Warning: The remote function __main__.one_seed1 has size 159391908 when pickled. It will be stored in Redis, which could cause memory issues. This may mean that its definition uses a large array or other object.\n"
     ]
    },
    {
     "name": "stdout",
     "output_type": "stream",
     "text": [
      "\u001b[31mtime cost for 2-th rep = 10.5 mins with coverage = 0.25 and mean_width = 0.1791164129972458\u001b[0m\n"
     ]
    },
    {
     "name": "stderr",
     "output_type": "stream",
     "text": [
      "2020-11-05 23:31:08,252\tINFO services.py:1166 -- View the Ray dashboard at \u001b[1m\u001b[32mhttp://127.0.0.1:8265\u001b[39m\u001b[22m\n",
      "2020-11-05 23:31:52,265\tWARNING worker.py:1072 -- Warning: The remote function __main__.one_seed1 has size 159391908 when pickled. It will be stored in Redis, which could cause memory issues. This may mean that its definition uses a large array or other object.\n"
     ]
    },
    {
     "name": "stdout",
     "output_type": "stream",
     "text": [
      "\u001b[31mtime cost for 3-th rep = 13.8 mins with coverage = 0.25 and mean_width = 0.17992377281188965\u001b[0m\n"
     ]
    },
    {
     "name": "stderr",
     "output_type": "stream",
     "text": [
      "2020-11-05 23:34:29,511\tINFO services.py:1166 -- View the Ray dashboard at \u001b[1m\u001b[32mhttp://127.0.0.1:8265\u001b[39m\u001b[22m\n",
      "2020-11-05 23:35:13,639\tWARNING worker.py:1072 -- Warning: The remote function __main__.one_seed1 has size 159391908 when pickled. It will be stored in Redis, which could cause memory issues. This may mean that its definition uses a large array or other object.\n"
     ]
    },
    {
     "name": "stdout",
     "output_type": "stream",
     "text": [
      "\u001b[31mtime cost for 4-th rep = 17.4 mins with coverage = 0.275 and mean_width = 0.17815332114696503\u001b[0m\n"
     ]
    },
    {
     "name": "stderr",
     "output_type": "stream",
     "text": [
      "2020-11-05 23:38:00,626\tINFO services.py:1166 -- View the Ray dashboard at \u001b[1m\u001b[32mhttp://127.0.0.1:8265\u001b[39m\u001b[22m\n",
      "2020-11-05 23:38:44,452\tWARNING worker.py:1072 -- Warning: The remote function __main__.one_seed1 has size 159391908 when pickled. It will be stored in Redis, which could cause memory issues. This may mean that its definition uses a large array or other object.\n"
     ]
    },
    {
     "name": "stdout",
     "output_type": "stream",
     "text": [
      "\u001b[31mtime cost for 5-th rep = 21.0 mins with coverage = 0.25 and mean_width = 0.18360519409179688\u001b[0m\n"
     ]
    },
    {
     "name": "stderr",
     "output_type": "stream",
     "text": [
      "2020-11-05 23:41:40,860\tINFO services.py:1166 -- View the Ray dashboard at \u001b[1m\u001b[32mhttp://127.0.0.1:8265\u001b[39m\u001b[22m\n",
      "2020-11-05 23:42:24,614\tWARNING worker.py:1072 -- Warning: The remote function __main__.one_seed1 has size 159391908 when pickled. It will be stored in Redis, which could cause memory issues. This may mean that its definition uses a large array or other object.\n"
     ]
    },
    {
     "name": "stdout",
     "output_type": "stream",
     "text": [
      "\u001b[31mtime cost for 6-th rep = 24.4 mins with coverage = 0.25 and mean_width = 0.18785476684570312\u001b[0m\n"
     ]
    },
    {
     "name": "stderr",
     "output_type": "stream",
     "text": [
      "2020-11-05 23:45:04,494\tINFO services.py:1166 -- View the Ray dashboard at \u001b[1m\u001b[32mhttp://127.0.0.1:8265\u001b[39m\u001b[22m\n",
      "2020-11-05 23:45:48,512\tWARNING worker.py:1072 -- Warning: The remote function __main__.one_seed1 has size 159391908 when pickled. It will be stored in Redis, which could cause memory issues. This may mean that its definition uses a large array or other object.\n"
     ]
    },
    {
     "name": "stdout",
     "output_type": "stream",
     "text": [
      "\u001b[31mtime cost for 7-th rep = 28.0 mins with coverage = 0.234375 and mean_width = 0.18746662139892578\u001b[0m\n"
     ]
    },
    {
     "name": "stderr",
     "output_type": "stream",
     "text": [
      "2020-11-05 23:48:40,066\tINFO services.py:1166 -- View the Ray dashboard at \u001b[1m\u001b[32mhttp://127.0.0.1:8265\u001b[39m\u001b[22m\n",
      "2020-11-05 23:49:24,086\tWARNING worker.py:1072 -- Warning: The remote function __main__.one_seed1 has size 159391908 when pickled. It will be stored in Redis, which could cause memory issues. This may mean that its definition uses a large array or other object.\n"
     ]
    },
    {
     "name": "stdout",
     "output_type": "stream",
     "text": [
      "\u001b[31mtime cost for 8-th rep = 31.3 mins with coverage = 0.2361111111111111 and mean_width = 0.18760745227336884\u001b[0m\n"
     ]
    },
    {
     "name": "stderr",
     "output_type": "stream",
     "text": [
      "2020-11-05 23:51:54,529\tINFO services.py:1166 -- View the Ray dashboard at \u001b[1m\u001b[32mhttp://127.0.0.1:8265\u001b[39m\u001b[22m\n",
      "2020-11-05 23:52:38,633\tWARNING worker.py:1072 -- Warning: The remote function __main__.one_seed1 has size 159391908 when pickled. It will be stored in Redis, which could cause memory issues. This may mean that its definition uses a large array or other object.\n"
     ]
    },
    {
     "name": "stdout",
     "output_type": "stream",
     "text": [
      "\u001b[31mtime cost for 9-th rep = 34.8 mins with coverage = 0.25 and mean_width = 0.18629932403564453\u001b[0m\n"
     ]
    },
    {
     "name": "stderr",
     "output_type": "stream",
     "text": [
      "2020-11-05 23:55:30,333\tINFO services.py:1166 -- View the Ray dashboard at \u001b[1m\u001b[32mhttp://127.0.0.1:8265\u001b[39m\u001b[22m\n",
      "2020-11-05 23:56:16,089\tWARNING worker.py:1072 -- Warning: The remote function __main__.one_seed1 has size 159391908 when pickled. It will be stored in Redis, which could cause memory issues. This may mean that its definition uses a large array or other object.\n"
     ]
    },
    {
     "name": "stdout",
     "output_type": "stream",
     "text": [
      "\u001b[31mtime cost for 10-th rep = 38.2 mins with coverage = 0.23863636363636365 and mean_width = 0.18536923825740814\u001b[0m\n"
     ]
    },
    {
     "name": "stderr",
     "output_type": "stream",
     "text": [
      "2020-11-05 23:58:51,779\tINFO services.py:1166 -- View the Ray dashboard at \u001b[1m\u001b[32mhttp://127.0.0.1:8265\u001b[39m\u001b[22m\n",
      "2020-11-05 23:59:37,514\tWARNING worker.py:1072 -- Warning: The remote function __main__.one_seed1 has size 159391908 when pickled. It will be stored in Redis, which could cause memory issues. This may mean that its definition uses a large array or other object.\n"
     ]
    },
    {
     "name": "stdout",
     "output_type": "stream",
     "text": [
      "\u001b[31mtime cost for 11-th rep = 42.4 mins with coverage = 0.23958333333333334 and mean_width = 0.18471872806549072\u001b[0m\n"
     ]
    },
    {
     "name": "stderr",
     "output_type": "stream",
     "text": [
      "2020-11-06 00:03:04,623\tINFO services.py:1166 -- View the Ray dashboard at \u001b[1m\u001b[32mhttp://127.0.0.1:8265\u001b[39m\u001b[22m\n",
      "2020-11-06 00:03:48,485\tWARNING worker.py:1072 -- Warning: The remote function __main__.one_seed1 has size 159391908 when pickled. It will be stored in Redis, which could cause memory issues. This may mean that its definition uses a large array or other object.\n"
     ]
    },
    {
     "name": "stdout",
     "output_type": "stream",
     "text": [
      "\u001b[31mtime cost for 12-th rep = 45.8 mins with coverage = 0.23076923076923078 and mean_width = 0.18527387082576752\u001b[0m\n"
     ]
    },
    {
     "name": "stderr",
     "output_type": "stream",
     "text": [
      "2020-11-06 00:06:27,150\tINFO services.py:1166 -- View the Ray dashboard at \u001b[1m\u001b[32mhttp://127.0.0.1:8265\u001b[39m\u001b[22m\n",
      "2020-11-06 00:07:11,274\tWARNING worker.py:1072 -- Warning: The remote function __main__.one_seed1 has size 159391908 when pickled. It will be stored in Redis, which could cause memory issues. This may mean that its definition uses a large array or other object.\n"
     ]
    },
    {
     "name": "stdout",
     "output_type": "stream",
     "text": [
      "\u001b[31mtime cost for 13-th rep = 49.2 mins with coverage = 0.24107142857142858 and mean_width = 0.18610940873622894\u001b[0m\n"
     ]
    },
    {
     "name": "stderr",
     "output_type": "stream",
     "text": [
      "2020-11-06 00:09:51,211\tINFO services.py:1166 -- View the Ray dashboard at \u001b[1m\u001b[32mhttp://127.0.0.1:8265\u001b[39m\u001b[22m\n",
      "2020-11-06 00:10:35,014\tWARNING worker.py:1072 -- Warning: The remote function __main__.one_seed1 has size 159391908 when pickled. It will be stored in Redis, which could cause memory issues. This may mean that its definition uses a large array or other object.\n"
     ]
    },
    {
     "name": "stdout",
     "output_type": "stream",
     "text": [
      "\u001b[31mtime cost for 14-th rep = 52.4 mins with coverage = 0.25 and mean_width = 0.1871364563703537\u001b[0m\n"
     ]
    },
    {
     "name": "stderr",
     "output_type": "stream",
     "text": [
      "2020-11-06 00:13:05,930\tINFO services.py:1166 -- View the Ray dashboard at \u001b[1m\u001b[32mhttp://127.0.0.1:8265\u001b[39m\u001b[22m\n",
      "2020-11-06 00:13:49,892\tWARNING worker.py:1072 -- Warning: The remote function __main__.one_seed1 has size 159391908 when pickled. It will be stored in Redis, which could cause memory issues. This may mean that its definition uses a large array or other object.\n"
     ]
    },
    {
     "name": "stdout",
     "output_type": "stream",
     "text": [
      "\u001b[31mtime cost for 15-th rep = 56.1 mins with coverage = 0.2578125 and mean_width = 0.18747437000274658\u001b[0m\n"
     ]
    },
    {
     "name": "stderr",
     "output_type": "stream",
     "text": [
      "2020-11-06 00:16:46,687\tINFO services.py:1166 -- View the Ray dashboard at \u001b[1m\u001b[32mhttp://127.0.0.1:8265\u001b[39m\u001b[22m\n",
      "2020-11-06 00:17:32,434\tWARNING worker.py:1072 -- Warning: The remote function __main__.one_seed1 has size 159391908 when pickled. It will be stored in Redis, which could cause memory issues. This may mean that its definition uses a large array or other object.\n"
     ]
    },
    {
     "name": "stdout",
     "output_type": "stream",
     "text": [
      "\u001b[31mtime cost for 16-th rep = 59.5 mins with coverage = 0.25735294117647056 and mean_width = 0.18830826878547668\u001b[0m\n"
     ]
    },
    {
     "name": "stderr",
     "output_type": "stream",
     "text": [
      "2020-11-06 00:20:09,587\tINFO services.py:1166 -- View the Ray dashboard at \u001b[1m\u001b[32mhttp://127.0.0.1:8265\u001b[39m\u001b[22m\n",
      "2020-11-06 00:20:53,499\tWARNING worker.py:1072 -- Warning: The remote function __main__.one_seed1 has size 159391908 when pickled. It will be stored in Redis, which could cause memory issues. This may mean that its definition uses a large array or other object.\n"
     ]
    },
    {
     "name": "stdout",
     "output_type": "stream",
     "text": [
      "\u001b[31mtime cost for 17-th rep = 62.8 mins with coverage = 0.24305555555555555 and mean_width = 0.18863889575004578\u001b[0m\n"
     ]
    },
    {
     "name": "stderr",
     "output_type": "stream",
     "text": [
      "2020-11-06 00:23:29,471\tINFO services.py:1166 -- View the Ray dashboard at \u001b[1m\u001b[32mhttp://127.0.0.1:8265\u001b[39m\u001b[22m\n",
      "2020-11-06 00:24:13,589\tWARNING worker.py:1072 -- Warning: The remote function __main__.one_seed1 has size 159391908 when pickled. It will be stored in Redis, which could cause memory issues. This may mean that its definition uses a large array or other object.\n"
     ]
    },
    {
     "name": "stdout",
     "output_type": "stream",
     "text": [
      "\u001b[31mtime cost for 18-th rep = 66.4 mins with coverage = 0.25 and mean_width = 0.1884441375732422\u001b[0m\n"
     ]
    },
    {
     "name": "stderr",
     "output_type": "stream",
     "text": [
      "2020-11-06 00:27:00,999\tINFO services.py:1166 -- View the Ray dashboard at \u001b[1m\u001b[32mhttp://127.0.0.1:8265\u001b[39m\u001b[22m\n",
      "2020-11-06 00:27:45,143\tWARNING worker.py:1072 -- Warning: The remote function __main__.one_seed1 has size 159391908 when pickled. It will be stored in Redis, which could cause memory issues. This may mean that its definition uses a large array or other object.\n"
     ]
    },
    {
     "name": "stdout",
     "output_type": "stream",
     "text": [
      "\u001b[31mtime cost for 19-th rep = 69.8 mins with coverage = 0.2375 and mean_width = 0.1882137954235077\u001b[0m\n"
     ]
    },
    {
     "name": "stderr",
     "output_type": "stream",
     "text": [
      "2020-11-06 00:30:29,316\tINFO services.py:1166 -- View the Ray dashboard at \u001b[1m\u001b[32mhttp://127.0.0.1:8265\u001b[39m\u001b[22m\n",
      "2020-11-06 00:31:13,140\tWARNING worker.py:1072 -- Warning: The remote function __main__.one_seed1 has size 159391908 when pickled. It will be stored in Redis, which could cause memory issues. This may mean that its definition uses a large array or other object.\n"
     ]
    },
    {
     "name": "stdout",
     "output_type": "stream",
     "text": [
      "\u001b[31mtime cost for 20-th rep = 73.6 mins with coverage = 0.23214285714285715 and mean_width = 0.18951216340065002\u001b[0m\n"
     ]
    },
    {
     "name": "stderr",
     "output_type": "stream",
     "text": [
      "2020-11-06 00:34:16,229\tINFO services.py:1166 -- View the Ray dashboard at \u001b[1m\u001b[32mhttp://127.0.0.1:8265\u001b[39m\u001b[22m\n",
      "2020-11-06 00:35:00,150\tWARNING worker.py:1072 -- Warning: The remote function __main__.one_seed1 has size 159391908 when pickled. It will be stored in Redis, which could cause memory issues. This may mean that its definition uses a large array or other object.\n"
     ]
    },
    {
     "name": "stdout",
     "output_type": "stream",
     "text": [
      "\u001b[31mtime cost for 21-th rep = 77.2 mins with coverage = 0.23295454545454544 and mean_width = 0.18930478394031525\u001b[0m\n"
     ]
    },
    {
     "name": "stderr",
     "output_type": "stream",
     "text": [
      "2020-11-06 00:37:49,237\tINFO services.py:1166 -- View the Ray dashboard at \u001b[1m\u001b[32mhttp://127.0.0.1:8265\u001b[39m\u001b[22m\n",
      "2020-11-06 00:38:33,237\tWARNING worker.py:1072 -- Warning: The remote function __main__.one_seed1 has size 159391908 when pickled. It will be stored in Redis, which could cause memory issues. This may mean that its definition uses a large array or other object.\n"
     ]
    },
    {
     "name": "stdout",
     "output_type": "stream",
     "text": [
      "\u001b[31mtime cost for 22-th rep = 80.7 mins with coverage = 0.23369565217391305 and mean_width = 0.1891259104013443\u001b[0m\n"
     ]
    },
    {
     "name": "stderr",
     "output_type": "stream",
     "text": [
      "2020-11-06 00:41:20,234\tINFO services.py:1166 -- View the Ray dashboard at \u001b[1m\u001b[32mhttp://127.0.0.1:8265\u001b[39m\u001b[22m\n",
      "2020-11-06 00:42:04,251\tWARNING worker.py:1072 -- Warning: The remote function __main__.one_seed1 has size 159391908 when pickled. It will be stored in Redis, which could cause memory issues. This may mean that its definition uses a large array or other object.\n"
     ]
    },
    {
     "name": "stdout",
     "output_type": "stream",
     "text": [
      "\u001b[31mtime cost for 23-th rep = 84.1 mins with coverage = 0.234375 and mean_width = 0.18931014835834503\u001b[0m\n"
     ]
    }
   ],
   "source": [
    "rep = 200\n",
    "###########\n",
    "lr = 0.005\n",
    "batch_size = 32\n",
    "###########\n",
    "algae_alpha = 0.05\n",
    "alpha_CI = 0.95\n",
    "\n",
    "setting = \"coindice_\" + \"cartpole_\" + \"alpha_\" + str(alpha_CI) + \"N_\" + str(N) + \"tau_\" + str(tau) \n",
    "setting = setting + \"algae_alpha_\" + str(algae_alpha) + \"lr_\" + str(lr)  + \"bs_\" + str(batch_size)\n",
    "path = \"res/\" + setting\n",
    "printR(path)\n",
    "\n",
    "ray.shutdown()\n",
    "a = now()\n",
    "res_all = []\n",
    "for i in range(rep // n_gpu):\n",
    "    @ray.remote(num_gpus=1)\n",
    "    def one_seed1(seed):\n",
    "        gpu_idx = seed % n_gpu\n",
    "        pi1 = DQN.DQN_gym(num_states = 4, num_actions = 2\n",
    "                          , hidden_units = [256, 256], gamma = gamma\n",
    "                          , gpu_number = gpu_idx)\n",
    "        pi1.model.load_weights(tp_path)\n",
    "        dataset = converter.convertDataset(trajs_train_resp[seed]\n",
    "                                      , min_A = 0, max_A = 1\n",
    "                                       , min_S = -5, max_S = 5)\n",
    "        CI = run_coin.coindice(dataset = dataset, pi1 = pi1, N = N, T = T, gamma = gamma\n",
    "                      , hidden_dims = (64, ), gpu_number = gpu_idx\n",
    "                 , nu_learning_rate = lr, zeta_learning_rate = lr, weight_learning_rate = lr ### ????\n",
    "                 , nu_regularizer = 1, zeta_regularizer = 1 # NOT SENSITIVE\n",
    "                 , num_steps = 2000, batch_size = batch_size, alpha_CI = alpha_CI\n",
    "                 , print_loss = 0, print_freq = 50, print_prog = 0\n",
    "                 , primal_form = True, f_exponent = 1.5, algae_alpha = algae_alpha)\n",
    "        return CI\n",
    "    ray.init()\n",
    "    ###########\n",
    "    futures = [one_seed1.remote(j) for j in range(n_gpu * i, n_gpu * (i + 1))]\n",
    "    res = ray.get(futures)\n",
    "    ray.shutdown()\n",
    "    res_all.append(res)\n",
    "    arr_res_all = np.vstack(res_all)\n",
    "    coverage = (arr_res_all[:, 0] < V_true) * (arr_res_all[:, 1] > V_true)\n",
    "    mean_width = mean(arr_res_all[:, 1] - arr_res_all[:, 0])\n",
    "    printR(\"time cost for {}-th rep = {:.1f} mins with coverage = {} and mean_width = {}\".format(i, (now() - a) / 60\n",
    "                                                                                                 , sum(coverage) / len(coverage)\n",
    "                                                                                                , mean_width))\n",
    "res_this_setting = {\"CIs\" : arr_res_all\n",
    "                   , \"coverage\" : coverage\n",
    "                   , \"mean_width\" : mean_width}\n",
    "dump(res_this_setting, path)"
   ]
  }
 ],
 "metadata": {
  "kernelspec": {
   "display_name": "conda_amazonei_tensorflow2_p36",
   "language": "python",
   "name": "conda_amazonei_tensorflow2_p36"
  },
  "language_info": {
   "codemirror_mode": {
    "name": "ipython",
    "version": 3
   },
   "file_extension": ".py",
   "mimetype": "text/x-python",
   "name": "python",
   "nbconvert_exporter": "python",
   "pygments_lexer": "ipython3",
   "version": "3.6.10"
  }
 },
 "nbformat": 4,
 "nbformat_minor": 4
}

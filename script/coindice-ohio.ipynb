{
 "cells": [
  {
   "cell_type": "code",
   "execution_count": null,
   "metadata": {},
   "outputs": [],
   "source": [
    "from _util import *\n",
    "\n",
    "import _RL.FQI as FQI\n",
    "import _RL.my_gym as my_gym\n",
    "import _Ohio_Simulator as Ohio\n",
    "import _analyze as analyze\n",
    "import _RL.DQN as DQN\n",
    "import _cartpole as cartpole\n",
    "from coinDice import run_neural_coin_dice as run_coin\n",
    "from coinDice import converter as converter\n",
    "\n",
    "os.environ[\"OMP_NUM_THREADS\"] = \"1\"\n",
    "os.environ[\"MKL_NUM_THREADS\"] = \"1\"\n",
    "os.environ[\"OPENBLAS_NUM_THREADS\"] = \"1\"\n",
    "os.environ[\"VECLIB_MAXIMUM_THREADS\"] = \"1\"\n",
    "os.environ[\"NUMEXPR_NUM_THREADS\"] = \"1\"\n",
    "\n",
    "reload(converter)\n",
    "reload(run_coin)"
   ]
  },
  {
   "cell_type": "markdown",
   "metadata": {},
   "source": [
    "1. we can either store the data generated from TR, or re-generate it "
   ]
  },
  {
   "cell_type": "markdown",
   "metadata": {},
   "source": [
    "## N20, T = 200, tau = 0.8, algae_alpha = 2.5"
   ]
  },
  {
   "cell_type": "code",
   "execution_count": null,
   "metadata": {
    "collapsed": true,
    "jupyter": {
     "outputs_hidden": true
    }
   },
   "outputs": [
    {
     "name": "stdout",
     "output_type": "stream",
     "text": [
      "\u001b[31msetting: 1106_ohio_tau_Qs_coindice_N20_T200_sd10_tau_0.8\u001b[0m\n",
      "\u001b[31mTrue Value: mean = -47.69 with std = 0.19\u001b[0m\n",
      "\u001b[31mTrue Value: mean = -49.64 with std = 0.62\u001b[0m\n"
     ]
    },
    {
     "name": "stderr",
     "output_type": "stream",
     "text": [
      "2020-11-06 05:54:49,975\tINFO services.py:1166 -- View the Ray dashboard at \u001b[1m\u001b[32mhttp://127.0.0.1:8266\u001b[39m\u001b[22m\n",
      "2020-11-06 05:55:29,473\tWARNING worker.py:1072 -- Warning: The remote function __main__.one_seed1 has size 257455839 when pickled. It will be stored in Redis, which could cause memory issues. This may mean that its definition uses a large array or other object.\n",
      "2020-11-06 05:55:43,263\tWARNING worker.py:1072 -- This worker was asked to execute a function that it does not have registered. You may have to restart Ray.\n",
      "2020-11-06 05:55:43,264\tWARNING worker.py:1072 -- This worker was asked to execute a function that it does not have registered. You may have to restart Ray.\n",
      "2020-11-06 05:55:43,265\tWARNING worker.py:1072 -- This worker was asked to execute a function that it does not have registered. You may have to restart Ray.\n",
      "2020-11-06 05:55:43,265\tWARNING worker.py:1072 -- This worker was asked to execute a function that it does not have registered. You may have to restart Ray.\n",
      "2020-11-06 05:55:43,266\tWARNING worker.py:1072 -- This worker was asked to execute a function that it does not have registered. You may have to restart Ray.\n",
      "2020-11-06 05:55:43,266\tWARNING worker.py:1072 -- This worker was asked to execute a function that it does not have registered. You may have to restart Ray.\n",
      "2020-11-06 05:55:43,267\tWARNING worker.py:1072 -- This worker was asked to execute a function that it does not have registered. You may have to restart Ray.\n",
      "2020-11-06 05:55:43,267\tWARNING worker.py:1072 -- This worker was asked to execute a function that it does not have registered. You may have to restart Ray.\n",
      "2020-11-06 05:55:43,268\tWARNING worker.py:1072 -- This worker was asked to execute a function that it does not have registered. You may have to restart Ray.\n",
      "2020-11-06 05:55:43,269\tWARNING worker.py:1072 -- This worker was asked to execute a function that it does not have registered. You may have to restart Ray.\n",
      "2020-11-06 05:55:43,270\tWARNING worker.py:1072 -- This worker was asked to execute a function that it does not have registered. You may have to restart Ray.\n",
      "2020-11-06 05:55:43,271\tWARNING worker.py:1072 -- This worker was asked to execute a function that it does not have registered. You may have to restart Ray.\n",
      "2020-11-06 05:55:43,271\tWARNING worker.py:1072 -- This worker was asked to execute a function that it does not have registered. You may have to restart Ray.\n",
      "2020-11-06 05:55:43,272\tWARNING worker.py:1072 -- This worker was asked to execute a function that it does not have registered. You may have to restart Ray.\n",
      "2020-11-06 05:55:43,272\tWARNING worker.py:1072 -- This worker was asked to execute a function that it does not have registered. You may have to restart Ray.\n",
      "2020-11-06 05:55:43,273\tWARNING worker.py:1072 -- This worker was asked to execute a function that it does not have registered. You may have to restart Ray.\n"
     ]
    },
    {
     "name": "stdout",
     "output_type": "stream",
     "text": [
      "\u001b[31mtime cost for 0-th rep = 4.4 mins with coverage = 0.3125 and mean_width = 2.9485671520233154\u001b[0m\n"
     ]
    },
    {
     "name": "stderr",
     "output_type": "stream",
     "text": [
      "2020-11-06 05:59:16,373\tINFO services.py:1166 -- View the Ray dashboard at \u001b[1m\u001b[32mhttp://127.0.0.1:8265\u001b[39m\u001b[22m\n",
      "2020-11-06 05:59:58,942\tWARNING worker.py:1072 -- Warning: The remote function __main__.one_seed1 has size 257455839 when pickled. It will be stored in Redis, which could cause memory issues. This may mean that its definition uses a large array or other object.\n",
      "2020-11-06 06:00:12,746\tWARNING worker.py:1072 -- This worker was asked to execute a function that it does not have registered. You may have to restart Ray.\n",
      "2020-11-06 06:00:12,748\tWARNING worker.py:1072 -- This worker was asked to execute a function that it does not have registered. You may have to restart Ray.\n",
      "2020-11-06 06:00:12,749\tWARNING worker.py:1072 -- This worker was asked to execute a function that it does not have registered. You may have to restart Ray.\n",
      "2020-11-06 06:00:12,750\tWARNING worker.py:1072 -- This worker was asked to execute a function that it does not have registered. You may have to restart Ray.\n",
      "2020-11-06 06:00:12,750\tWARNING worker.py:1072 -- This worker was asked to execute a function that it does not have registered. You may have to restart Ray.\n",
      "2020-11-06 06:00:12,751\tWARNING worker.py:1072 -- This worker was asked to execute a function that it does not have registered. You may have to restart Ray.\n",
      "2020-11-06 06:00:12,752\tWARNING worker.py:1072 -- This worker was asked to execute a function that it does not have registered. You may have to restart Ray.\n",
      "2020-11-06 06:00:12,752\tWARNING worker.py:1072 -- This worker was asked to execute a function that it does not have registered. You may have to restart Ray.\n",
      "2020-11-06 06:00:12,753\tWARNING worker.py:1072 -- This worker was asked to execute a function that it does not have registered. You may have to restart Ray.\n",
      "2020-11-06 06:00:12,754\tWARNING worker.py:1072 -- This worker was asked to execute a function that it does not have registered. You may have to restart Ray.\n",
      "2020-11-06 06:00:12,754\tWARNING worker.py:1072 -- This worker was asked to execute a function that it does not have registered. You may have to restart Ray.\n",
      "2020-11-06 06:00:12,755\tWARNING worker.py:1072 -- This worker was asked to execute a function that it does not have registered. You may have to restart Ray.\n",
      "2020-11-06 06:00:12,756\tWARNING worker.py:1072 -- This worker was asked to execute a function that it does not have registered. You may have to restart Ray.\n",
      "2020-11-06 06:00:12,757\tWARNING worker.py:1072 -- This worker was asked to execute a function that it does not have registered. You may have to restart Ray.\n",
      "2020-11-06 06:00:12,757\tWARNING worker.py:1072 -- This worker was asked to execute a function that it does not have registered. You may have to restart Ray.\n",
      "2020-11-06 06:00:12,758\tWARNING worker.py:1072 -- This worker was asked to execute a function that it does not have registered. You may have to restart Ray.\n"
     ]
    },
    {
     "name": "stdout",
     "output_type": "stream",
     "text": [
      "\u001b[31mtime cost for 1-th rep = 8.8 mins with coverage = 0.3125 and mean_width = 2.906646251678467\u001b[0m\n"
     ]
    },
    {
     "name": "stderr",
     "output_type": "stream",
     "text": [
      "2020-11-06 06:03:41,202\tINFO services.py:1166 -- View the Ray dashboard at \u001b[1m\u001b[32mhttp://127.0.0.1:8265\u001b[39m\u001b[22m\n",
      "2020-11-06 06:04:22,266\tWARNING worker.py:1072 -- Warning: The remote function __main__.one_seed1 has size 257455839 when pickled. It will be stored in Redis, which could cause memory issues. This may mean that its definition uses a large array or other object.\n",
      "2020-11-06 06:04:35,925\tWARNING worker.py:1072 -- This worker was asked to execute a function that it does not have registered. You may have to restart Ray.\n",
      "2020-11-06 06:04:35,926\tWARNING worker.py:1072 -- This worker was asked to execute a function that it does not have registered. You may have to restart Ray.\n",
      "2020-11-06 06:04:35,927\tWARNING worker.py:1072 -- This worker was asked to execute a function that it does not have registered. You may have to restart Ray.\n",
      "2020-11-06 06:04:35,927\tWARNING worker.py:1072 -- This worker was asked to execute a function that it does not have registered. You may have to restart Ray.\n",
      "2020-11-06 06:04:35,928\tWARNING worker.py:1072 -- This worker was asked to execute a function that it does not have registered. You may have to restart Ray.\n",
      "2020-11-06 06:04:35,929\tWARNING worker.py:1072 -- This worker was asked to execute a function that it does not have registered. You may have to restart Ray.\n",
      "2020-11-06 06:04:35,930\tWARNING worker.py:1072 -- This worker was asked to execute a function that it does not have registered. You may have to restart Ray.\n",
      "2020-11-06 06:04:35,931\tWARNING worker.py:1072 -- This worker was asked to execute a function that it does not have registered. You may have to restart Ray.\n",
      "2020-11-06 06:04:35,932\tWARNING worker.py:1072 -- This worker was asked to execute a function that it does not have registered. You may have to restart Ray.\n",
      "2020-11-06 06:04:35,932\tWARNING worker.py:1072 -- This worker was asked to execute a function that it does not have registered. You may have to restart Ray.\n",
      "2020-11-06 06:04:35,933\tWARNING worker.py:1072 -- This worker was asked to execute a function that it does not have registered. You may have to restart Ray.\n",
      "2020-11-06 06:04:35,934\tWARNING worker.py:1072 -- This worker was asked to execute a function that it does not have registered. You may have to restart Ray.\n",
      "2020-11-06 06:04:35,935\tWARNING worker.py:1072 -- This worker was asked to execute a function that it does not have registered. You may have to restart Ray.\n",
      "2020-11-06 06:04:35,936\tWARNING worker.py:1072 -- This worker was asked to execute a function that it does not have registered. You may have to restart Ray.\n",
      "2020-11-06 06:04:35,937\tWARNING worker.py:1072 -- This worker was asked to execute a function that it does not have registered. You may have to restart Ray.\n",
      "2020-11-06 06:04:35,937\tWARNING worker.py:1072 -- This worker was asked to execute a function that it does not have registered. You may have to restart Ray.\n"
     ]
    },
    {
     "name": "stdout",
     "output_type": "stream",
     "text": [
      "\u001b[31mtime cost for 2-th rep = 12.9 mins with coverage = 0.2916666666666667 and mean_width = 2.696782112121582\u001b[0m\n"
     ]
    },
    {
     "name": "stderr",
     "output_type": "stream",
     "text": [
      "2020-11-06 06:07:46,404\tINFO services.py:1166 -- View the Ray dashboard at \u001b[1m\u001b[32mhttp://127.0.0.1:8265\u001b[39m\u001b[22m\n",
      "2020-11-06 06:08:28,427\tWARNING worker.py:1072 -- Warning: The remote function __main__.one_seed1 has size 257455839 when pickled. It will be stored in Redis, which could cause memory issues. This may mean that its definition uses a large array or other object.\n",
      "2020-11-06 06:08:42,413\tWARNING worker.py:1072 -- This worker was asked to execute a function that it does not have registered. You may have to restart Ray.\n",
      "2020-11-06 06:08:42,414\tWARNING worker.py:1072 -- This worker was asked to execute a function that it does not have registered. You may have to restart Ray.\n",
      "2020-11-06 06:08:42,415\tWARNING worker.py:1072 -- This worker was asked to execute a function that it does not have registered. You may have to restart Ray.\n",
      "2020-11-06 06:08:42,416\tWARNING worker.py:1072 -- This worker was asked to execute a function that it does not have registered. You may have to restart Ray.\n",
      "2020-11-06 06:08:42,417\tWARNING worker.py:1072 -- This worker was asked to execute a function that it does not have registered. You may have to restart Ray.\n",
      "2020-11-06 06:08:42,417\tWARNING worker.py:1072 -- This worker was asked to execute a function that it does not have registered. You may have to restart Ray.\n",
      "2020-11-06 06:08:42,418\tWARNING worker.py:1072 -- This worker was asked to execute a function that it does not have registered. You may have to restart Ray.\n",
      "2020-11-06 06:08:42,419\tWARNING worker.py:1072 -- This worker was asked to execute a function that it does not have registered. You may have to restart Ray.\n",
      "2020-11-06 06:08:42,419\tWARNING worker.py:1072 -- This worker was asked to execute a function that it does not have registered. You may have to restart Ray.\n",
      "2020-11-06 06:08:42,420\tWARNING worker.py:1072 -- This worker was asked to execute a function that it does not have registered. You may have to restart Ray.\n",
      "2020-11-06 06:08:42,421\tWARNING worker.py:1072 -- This worker was asked to execute a function that it does not have registered. You may have to restart Ray.\n",
      "2020-11-06 06:08:42,421\tWARNING worker.py:1072 -- This worker was asked to execute a function that it does not have registered. You may have to restart Ray.\n",
      "2020-11-06 06:08:42,422\tWARNING worker.py:1072 -- This worker was asked to execute a function that it does not have registered. You may have to restart Ray.\n",
      "2020-11-06 06:08:42,422\tWARNING worker.py:1072 -- This worker was asked to execute a function that it does not have registered. You may have to restart Ray.\n",
      "2020-11-06 06:08:42,423\tWARNING worker.py:1072 -- This worker was asked to execute a function that it does not have registered. You may have to restart Ray.\n",
      "2020-11-06 06:08:42,423\tWARNING worker.py:1072 -- This worker was asked to execute a function that it does not have registered. You may have to restart Ray.\n"
     ]
    },
    {
     "name": "stdout",
     "output_type": "stream",
     "text": [
      "\u001b[31mtime cost for 3-th rep = 16.9 mins with coverage = 0.28125 and mean_width = 2.6832146644592285\u001b[0m\n"
     ]
    },
    {
     "name": "stderr",
     "output_type": "stream",
     "text": [
      "2020-11-06 06:11:47,096\tINFO services.py:1166 -- View the Ray dashboard at \u001b[1m\u001b[32mhttp://127.0.0.1:8265\u001b[39m\u001b[22m\n",
      "2020-11-06 06:12:27,339\tWARNING worker.py:1072 -- Warning: The remote function __main__.one_seed1 has size 257455839 when pickled. It will be stored in Redis, which could cause memory issues. This may mean that its definition uses a large array or other object.\n",
      "2020-11-06 06:12:41,070\tWARNING worker.py:1072 -- This worker was asked to execute a function that it does not have registered. You may have to restart Ray.\n",
      "2020-11-06 06:12:41,071\tWARNING worker.py:1072 -- This worker was asked to execute a function that it does not have registered. You may have to restart Ray.\n",
      "2020-11-06 06:12:41,072\tWARNING worker.py:1072 -- This worker was asked to execute a function that it does not have registered. You may have to restart Ray.\n",
      "2020-11-06 06:12:41,073\tWARNING worker.py:1072 -- This worker was asked to execute a function that it does not have registered. You may have to restart Ray.\n",
      "2020-11-06 06:12:41,074\tWARNING worker.py:1072 -- This worker was asked to execute a function that it does not have registered. You may have to restart Ray.\n",
      "2020-11-06 06:12:41,074\tWARNING worker.py:1072 -- This worker was asked to execute a function that it does not have registered. You may have to restart Ray.\n",
      "2020-11-06 06:12:41,075\tWARNING worker.py:1072 -- This worker was asked to execute a function that it does not have registered. You may have to restart Ray.\n",
      "2020-11-06 06:12:41,076\tWARNING worker.py:1072 -- This worker was asked to execute a function that it does not have registered. You may have to restart Ray.\n",
      "2020-11-06 06:12:41,077\tWARNING worker.py:1072 -- This worker was asked to execute a function that it does not have registered. You may have to restart Ray.\n",
      "2020-11-06 06:12:41,078\tWARNING worker.py:1072 -- This worker was asked to execute a function that it does not have registered. You may have to restart Ray.\n",
      "2020-11-06 06:12:41,079\tWARNING worker.py:1072 -- This worker was asked to execute a function that it does not have registered. You may have to restart Ray.\n",
      "2020-11-06 06:12:41,079\tWARNING worker.py:1072 -- This worker was asked to execute a function that it does not have registered. You may have to restart Ray.\n",
      "2020-11-06 06:12:41,080\tWARNING worker.py:1072 -- This worker was asked to execute a function that it does not have registered. You may have to restart Ray.\n",
      "2020-11-06 06:12:41,081\tWARNING worker.py:1072 -- This worker was asked to execute a function that it does not have registered. You may have to restart Ray.\n",
      "2020-11-06 06:12:41,082\tWARNING worker.py:1072 -- This worker was asked to execute a function that it does not have registered. You may have to restart Ray.\n",
      "2020-11-06 06:12:41,082\tWARNING worker.py:1072 -- This worker was asked to execute a function that it does not have registered. You may have to restart Ray.\n"
     ]
    },
    {
     "name": "stdout",
     "output_type": "stream",
     "text": [
      "\u001b[31mtime cost for 4-th rep = 20.9 mins with coverage = 0.275 and mean_width = 2.7880287170410156\u001b[0m\n"
     ]
    },
    {
     "name": "stderr",
     "output_type": "stream",
     "text": [
      "2020-11-06 06:15:43,578\tINFO services.py:1166 -- View the Ray dashboard at \u001b[1m\u001b[32mhttp://127.0.0.1:8265\u001b[39m\u001b[22m\n",
      "2020-11-06 06:16:26,174\tWARNING worker.py:1072 -- Warning: The remote function __main__.one_seed1 has size 257455839 when pickled. It will be stored in Redis, which could cause memory issues. This may mean that its definition uses a large array or other object.\n",
      "2020-11-06 06:16:39,883\tWARNING worker.py:1072 -- This worker was asked to execute a function that it does not have registered. You may have to restart Ray.\n",
      "2020-11-06 06:16:39,884\tWARNING worker.py:1072 -- This worker was asked to execute a function that it does not have registered. You may have to restart Ray.\n",
      "2020-11-06 06:16:39,885\tWARNING worker.py:1072 -- This worker was asked to execute a function that it does not have registered. You may have to restart Ray.\n",
      "2020-11-06 06:16:39,885\tWARNING worker.py:1072 -- This worker was asked to execute a function that it does not have registered. You may have to restart Ray.\n",
      "2020-11-06 06:16:39,886\tWARNING worker.py:1072 -- This worker was asked to execute a function that it does not have registered. You may have to restart Ray.\n",
      "2020-11-06 06:16:39,887\tWARNING worker.py:1072 -- This worker was asked to execute a function that it does not have registered. You may have to restart Ray.\n",
      "2020-11-06 06:16:39,888\tWARNING worker.py:1072 -- This worker was asked to execute a function that it does not have registered. You may have to restart Ray.\n",
      "2020-11-06 06:16:39,888\tWARNING worker.py:1072 -- This worker was asked to execute a function that it does not have registered. You may have to restart Ray.\n",
      "2020-11-06 06:16:39,889\tWARNING worker.py:1072 -- This worker was asked to execute a function that it does not have registered. You may have to restart Ray.\n",
      "2020-11-06 06:16:39,890\tWARNING worker.py:1072 -- This worker was asked to execute a function that it does not have registered. You may have to restart Ray.\n",
      "2020-11-06 06:16:39,890\tWARNING worker.py:1072 -- This worker was asked to execute a function that it does not have registered. You may have to restart Ray.\n",
      "2020-11-06 06:16:39,891\tWARNING worker.py:1072 -- This worker was asked to execute a function that it does not have registered. You may have to restart Ray.\n",
      "2020-11-06 06:16:39,892\tWARNING worker.py:1072 -- This worker was asked to execute a function that it does not have registered. You may have to restart Ray.\n",
      "2020-11-06 06:16:39,892\tWARNING worker.py:1072 -- This worker was asked to execute a function that it does not have registered. You may have to restart Ray.\n",
      "2020-11-06 06:16:39,893\tWARNING worker.py:1072 -- This worker was asked to execute a function that it does not have registered. You may have to restart Ray.\n",
      "2020-11-06 06:16:39,894\tWARNING worker.py:1072 -- This worker was asked to execute a function that it does not have registered. You may have to restart Ray.\n"
     ]
    },
    {
     "name": "stdout",
     "output_type": "stream",
     "text": [
      "\u001b[31mtime cost for 5-th rep = 25.0 mins with coverage = 0.25 and mean_width = 2.749758720397949\u001b[0m\n"
     ]
    },
    {
     "name": "stderr",
     "output_type": "stream",
     "text": [
      "2020-11-06 06:19:53,237\tINFO services.py:1166 -- View the Ray dashboard at \u001b[1m\u001b[32mhttp://127.0.0.1:8265\u001b[39m\u001b[22m\n",
      "2020-11-06 06:20:32,745\tWARNING worker.py:1072 -- Warning: The remote function __main__.one_seed1 has size 257455839 when pickled. It will be stored in Redis, which could cause memory issues. This may mean that its definition uses a large array or other object.\n",
      "2020-11-06 06:20:46,406\tWARNING worker.py:1072 -- This worker was asked to execute a function that it does not have registered. You may have to restart Ray.\n",
      "2020-11-06 06:20:46,407\tWARNING worker.py:1072 -- This worker was asked to execute a function that it does not have registered. You may have to restart Ray.\n",
      "2020-11-06 06:20:46,407\tWARNING worker.py:1072 -- This worker was asked to execute a function that it does not have registered. You may have to restart Ray.\n",
      "2020-11-06 06:20:46,408\tWARNING worker.py:1072 -- This worker was asked to execute a function that it does not have registered. You may have to restart Ray.\n",
      "2020-11-06 06:20:46,409\tWARNING worker.py:1072 -- This worker was asked to execute a function that it does not have registered. You may have to restart Ray.\n",
      "2020-11-06 06:20:46,409\tWARNING worker.py:1072 -- This worker was asked to execute a function that it does not have registered. You may have to restart Ray.\n",
      "2020-11-06 06:20:46,410\tWARNING worker.py:1072 -- This worker was asked to execute a function that it does not have registered. You may have to restart Ray.\n",
      "2020-11-06 06:20:46,411\tWARNING worker.py:1072 -- This worker was asked to execute a function that it does not have registered. You may have to restart Ray.\n",
      "2020-11-06 06:20:46,411\tWARNING worker.py:1072 -- This worker was asked to execute a function that it does not have registered. You may have to restart Ray.\n",
      "2020-11-06 06:20:46,412\tWARNING worker.py:1072 -- This worker was asked to execute a function that it does not have registered. You may have to restart Ray.\n",
      "2020-11-06 06:20:46,412\tWARNING worker.py:1072 -- This worker was asked to execute a function that it does not have registered. You may have to restart Ray.\n",
      "2020-11-06 06:20:46,412\tWARNING worker.py:1072 -- This worker was asked to execute a function that it does not have registered. You may have to restart Ray.\n",
      "2020-11-06 06:20:46,413\tWARNING worker.py:1072 -- This worker was asked to execute a function that it does not have registered. You may have to restart Ray.\n",
      "2020-11-06 06:20:46,413\tWARNING worker.py:1072 -- This worker was asked to execute a function that it does not have registered. You may have to restart Ray.\n",
      "2020-11-06 06:20:46,414\tWARNING worker.py:1072 -- This worker was asked to execute a function that it does not have registered. You may have to restart Ray.\n",
      "2020-11-06 06:20:46,414\tWARNING worker.py:1072 -- This worker was asked to execute a function that it does not have registered. You may have to restart Ray.\n"
     ]
    },
    {
     "name": "stdout",
     "output_type": "stream",
     "text": [
      "\u001b[31mtime cost for 6-th rep = 29.4 mins with coverage = 0.26785714285714285 and mean_width = 2.7306065559387207\u001b[0m\n"
     ]
    },
    {
     "name": "stderr",
     "output_type": "stream",
     "text": [
      "2020-11-06 06:24:12,221\tINFO services.py:1166 -- View the Ray dashboard at \u001b[1m\u001b[32mhttp://127.0.0.1:8265\u001b[39m\u001b[22m\n",
      "2020-11-06 06:24:52,942\tWARNING worker.py:1072 -- Warning: The remote function __main__.one_seed1 has size 257455839 when pickled. It will be stored in Redis, which could cause memory issues. This may mean that its definition uses a large array or other object.\n",
      "2020-11-06 06:25:06,636\tWARNING worker.py:1072 -- This worker was asked to execute a function that it does not have registered. You may have to restart Ray.\n",
      "2020-11-06 06:25:06,638\tWARNING worker.py:1072 -- This worker was asked to execute a function that it does not have registered. You may have to restart Ray.\n",
      "2020-11-06 06:25:06,638\tWARNING worker.py:1072 -- This worker was asked to execute a function that it does not have registered. You may have to restart Ray.\n",
      "2020-11-06 06:25:06,639\tWARNING worker.py:1072 -- This worker was asked to execute a function that it does not have registered. You may have to restart Ray.\n",
      "2020-11-06 06:25:06,640\tWARNING worker.py:1072 -- This worker was asked to execute a function that it does not have registered. You may have to restart Ray.\n",
      "2020-11-06 06:25:06,640\tWARNING worker.py:1072 -- This worker was asked to execute a function that it does not have registered. You may have to restart Ray.\n",
      "2020-11-06 06:25:06,641\tWARNING worker.py:1072 -- This worker was asked to execute a function that it does not have registered. You may have to restart Ray.\n",
      "2020-11-06 06:25:06,643\tWARNING worker.py:1072 -- This worker was asked to execute a function that it does not have registered. You may have to restart Ray.\n",
      "2020-11-06 06:25:06,643\tWARNING worker.py:1072 -- This worker was asked to execute a function that it does not have registered. You may have to restart Ray.\n",
      "2020-11-06 06:25:06,645\tWARNING worker.py:1072 -- This worker was asked to execute a function that it does not have registered. You may have to restart Ray.\n",
      "2020-11-06 06:25:06,646\tWARNING worker.py:1072 -- This worker was asked to execute a function that it does not have registered. You may have to restart Ray.\n",
      "2020-11-06 06:25:06,646\tWARNING worker.py:1072 -- This worker was asked to execute a function that it does not have registered. You may have to restart Ray.\n",
      "2020-11-06 06:25:06,647\tWARNING worker.py:1072 -- This worker was asked to execute a function that it does not have registered. You may have to restart Ray.\n",
      "2020-11-06 06:25:06,648\tWARNING worker.py:1072 -- This worker was asked to execute a function that it does not have registered. You may have to restart Ray.\n",
      "2020-11-06 06:25:06,649\tWARNING worker.py:1072 -- This worker was asked to execute a function that it does not have registered. You may have to restart Ray.\n",
      "2020-11-06 06:25:06,650\tWARNING worker.py:1072 -- This worker was asked to execute a function that it does not have registered. You may have to restart Ray.\n"
     ]
    },
    {
     "name": "stdout",
     "output_type": "stream",
     "text": [
      "\u001b[31mtime cost for 7-th rep = 33.3 mins with coverage = 0.25 and mean_width = 2.7326223850250244\u001b[0m\n"
     ]
    },
    {
     "name": "stderr",
     "output_type": "stream",
     "text": [
      "2020-11-06 06:28:05,780\tINFO services.py:1166 -- View the Ray dashboard at \u001b[1m\u001b[32mhttp://127.0.0.1:8265\u001b[39m\u001b[22m\n",
      "2020-11-06 06:28:45,995\tWARNING worker.py:1072 -- Warning: The remote function __main__.one_seed1 has size 257455839 when pickled. It will be stored in Redis, which could cause memory issues. This may mean that its definition uses a large array or other object.\n",
      "2020-11-06 06:28:59,717\tWARNING worker.py:1072 -- This worker was asked to execute a function that it does not have registered. You may have to restart Ray.\n",
      "2020-11-06 06:28:59,718\tWARNING worker.py:1072 -- This worker was asked to execute a function that it does not have registered. You may have to restart Ray.\n",
      "2020-11-06 06:28:59,718\tWARNING worker.py:1072 -- This worker was asked to execute a function that it does not have registered. You may have to restart Ray.\n",
      "2020-11-06 06:28:59,719\tWARNING worker.py:1072 -- This worker was asked to execute a function that it does not have registered. You may have to restart Ray.\n",
      "2020-11-06 06:28:59,719\tWARNING worker.py:1072 -- This worker was asked to execute a function that it does not have registered. You may have to restart Ray.\n",
      "2020-11-06 06:28:59,720\tWARNING worker.py:1072 -- This worker was asked to execute a function that it does not have registered. You may have to restart Ray.\n",
      "2020-11-06 06:28:59,720\tWARNING worker.py:1072 -- This worker was asked to execute a function that it does not have registered. You may have to restart Ray.\n",
      "2020-11-06 06:28:59,721\tWARNING worker.py:1072 -- This worker was asked to execute a function that it does not have registered. You may have to restart Ray.\n",
      "2020-11-06 06:28:59,721\tWARNING worker.py:1072 -- This worker was asked to execute a function that it does not have registered. You may have to restart Ray.\n",
      "2020-11-06 06:28:59,722\tWARNING worker.py:1072 -- This worker was asked to execute a function that it does not have registered. You may have to restart Ray.\n",
      "2020-11-06 06:28:59,722\tWARNING worker.py:1072 -- This worker was asked to execute a function that it does not have registered. You may have to restart Ray.\n",
      "2020-11-06 06:28:59,723\tWARNING worker.py:1072 -- This worker was asked to execute a function that it does not have registered. You may have to restart Ray.\n",
      "2020-11-06 06:28:59,723\tWARNING worker.py:1072 -- This worker was asked to execute a function that it does not have registered. You may have to restart Ray.\n",
      "2020-11-06 06:28:59,724\tWARNING worker.py:1072 -- This worker was asked to execute a function that it does not have registered. You may have to restart Ray.\n",
      "2020-11-06 06:28:59,724\tWARNING worker.py:1072 -- This worker was asked to execute a function that it does not have registered. You may have to restart Ray.\n",
      "2020-11-06 06:28:59,725\tWARNING worker.py:1072 -- This worker was asked to execute a function that it does not have registered. You may have to restart Ray.\n"
     ]
    },
    {
     "name": "stdout",
     "output_type": "stream",
     "text": [
      "\u001b[31mtime cost for 8-th rep = 37.3 mins with coverage = 0.2361111111111111 and mean_width = 2.7323951721191406\u001b[0m\n"
     ]
    },
    {
     "name": "stderr",
     "output_type": "stream",
     "text": [
      "2020-11-06 06:32:11,096\tINFO services.py:1166 -- View the Ray dashboard at \u001b[1m\u001b[32mhttp://127.0.0.1:8265\u001b[39m\u001b[22m\n",
      "2020-11-06 06:32:51,952\tWARNING worker.py:1072 -- Warning: The remote function __main__.one_seed1 has size 257455839 when pickled. It will be stored in Redis, which could cause memory issues. This may mean that its definition uses a large array or other object.\n",
      "2020-11-06 06:33:05,431\tWARNING worker.py:1072 -- This worker was asked to execute a function that it does not have registered. You may have to restart Ray.\n",
      "2020-11-06 06:33:05,432\tWARNING worker.py:1072 -- This worker was asked to execute a function that it does not have registered. You may have to restart Ray.\n",
      "2020-11-06 06:33:05,433\tWARNING worker.py:1072 -- This worker was asked to execute a function that it does not have registered. You may have to restart Ray.\n",
      "2020-11-06 06:33:05,433\tWARNING worker.py:1072 -- This worker was asked to execute a function that it does not have registered. You may have to restart Ray.\n",
      "2020-11-06 06:33:05,434\tWARNING worker.py:1072 -- This worker was asked to execute a function that it does not have registered. You may have to restart Ray.\n",
      "2020-11-06 06:33:05,435\tWARNING worker.py:1072 -- This worker was asked to execute a function that it does not have registered. You may have to restart Ray.\n",
      "2020-11-06 06:33:05,435\tWARNING worker.py:1072 -- This worker was asked to execute a function that it does not have registered. You may have to restart Ray.\n",
      "2020-11-06 06:33:05,436\tWARNING worker.py:1072 -- This worker was asked to execute a function that it does not have registered. You may have to restart Ray.\n",
      "2020-11-06 06:33:05,436\tWARNING worker.py:1072 -- This worker was asked to execute a function that it does not have registered. You may have to restart Ray.\n",
      "2020-11-06 06:33:05,437\tWARNING worker.py:1072 -- This worker was asked to execute a function that it does not have registered. You may have to restart Ray.\n",
      "2020-11-06 06:33:05,438\tWARNING worker.py:1072 -- This worker was asked to execute a function that it does not have registered. You may have to restart Ray.\n",
      "2020-11-06 06:33:05,439\tWARNING worker.py:1072 -- This worker was asked to execute a function that it does not have registered. You may have to restart Ray.\n",
      "2020-11-06 06:33:05,439\tWARNING worker.py:1072 -- This worker was asked to execute a function that it does not have registered. You may have to restart Ray.\n",
      "2020-11-06 06:33:05,440\tWARNING worker.py:1072 -- This worker was asked to execute a function that it does not have registered. You may have to restart Ray.\n",
      "2020-11-06 06:33:05,441\tWARNING worker.py:1072 -- This worker was asked to execute a function that it does not have registered. You may have to restart Ray.\n",
      "2020-11-06 06:33:05,442\tWARNING worker.py:1072 -- This worker was asked to execute a function that it does not have registered. You may have to restart Ray.\n"
     ]
    },
    {
     "name": "stdout",
     "output_type": "stream",
     "text": [
      "\u001b[31mtime cost for 9-th rep = 41.7 mins with coverage = 0.25 and mean_width = 2.77493953704834\u001b[0m\n"
     ]
    },
    {
     "name": "stderr",
     "output_type": "stream",
     "text": [
      "2020-11-06 06:36:30,358\tINFO services.py:1166 -- View the Ray dashboard at \u001b[1m\u001b[32mhttp://127.0.0.1:8265\u001b[39m\u001b[22m\n",
      "2020-11-06 06:37:11,274\tWARNING worker.py:1072 -- Warning: The remote function __main__.one_seed1 has size 257455839 when pickled. It will be stored in Redis, which could cause memory issues. This may mean that its definition uses a large array or other object.\n",
      "2020-11-06 06:37:25,531\tWARNING worker.py:1072 -- This worker was asked to execute a function that it does not have registered. You may have to restart Ray.\n",
      "2020-11-06 06:37:25,532\tWARNING worker.py:1072 -- This worker was asked to execute a function that it does not have registered. You may have to restart Ray.\n",
      "2020-11-06 06:37:25,533\tWARNING worker.py:1072 -- This worker was asked to execute a function that it does not have registered. You may have to restart Ray.\n",
      "2020-11-06 06:37:25,534\tWARNING worker.py:1072 -- This worker was asked to execute a function that it does not have registered. You may have to restart Ray.\n",
      "2020-11-06 06:37:25,534\tWARNING worker.py:1072 -- This worker was asked to execute a function that it does not have registered. You may have to restart Ray.\n",
      "2020-11-06 06:37:25,535\tWARNING worker.py:1072 -- This worker was asked to execute a function that it does not have registered. You may have to restart Ray.\n",
      "2020-11-06 06:37:25,535\tWARNING worker.py:1072 -- This worker was asked to execute a function that it does not have registered. You may have to restart Ray.\n",
      "2020-11-06 06:37:25,536\tWARNING worker.py:1072 -- This worker was asked to execute a function that it does not have registered. You may have to restart Ray.\n",
      "2020-11-06 06:37:25,536\tWARNING worker.py:1072 -- This worker was asked to execute a function that it does not have registered. You may have to restart Ray.\n",
      "2020-11-06 06:37:25,536\tWARNING worker.py:1072 -- This worker was asked to execute a function that it does not have registered. You may have to restart Ray.\n",
      "2020-11-06 06:37:25,537\tWARNING worker.py:1072 -- This worker was asked to execute a function that it does not have registered. You may have to restart Ray.\n",
      "2020-11-06 06:37:25,538\tWARNING worker.py:1072 -- This worker was asked to execute a function that it does not have registered. You may have to restart Ray.\n",
      "2020-11-06 06:37:25,538\tWARNING worker.py:1072 -- This worker was asked to execute a function that it does not have registered. You may have to restart Ray.\n",
      "2020-11-06 06:37:25,540\tWARNING worker.py:1072 -- This worker was asked to execute a function that it does not have registered. You may have to restart Ray.\n",
      "2020-11-06 06:37:25,540\tWARNING worker.py:1072 -- This worker was asked to execute a function that it does not have registered. You may have to restart Ray.\n",
      "2020-11-06 06:37:25,541\tWARNING worker.py:1072 -- This worker was asked to execute a function that it does not have registered. You may have to restart Ray.\n"
     ]
    },
    {
     "name": "stdout",
     "output_type": "stream",
     "text": [
      "\u001b[31mtime cost for 10-th rep = 45.6 mins with coverage = 0.2556818181818182 and mean_width = 2.7524490356445312\u001b[0m\n"
     ]
    },
    {
     "name": "stderr",
     "output_type": "stream",
     "text": [
      "2020-11-06 06:40:24,317\tINFO services.py:1166 -- View the Ray dashboard at \u001b[1m\u001b[32mhttp://127.0.0.1:8265\u001b[39m\u001b[22m\n",
      "2020-11-06 06:41:06,976\tWARNING worker.py:1072 -- Warning: The remote function __main__.one_seed1 has size 257455839 when pickled. It will be stored in Redis, which could cause memory issues. This may mean that its definition uses a large array or other object.\n",
      "2020-11-06 06:41:20,586\tWARNING worker.py:1072 -- This worker was asked to execute a function that it does not have registered. You may have to restart Ray.\n",
      "2020-11-06 06:41:20,587\tWARNING worker.py:1072 -- This worker was asked to execute a function that it does not have registered. You may have to restart Ray.\n",
      "2020-11-06 06:41:20,588\tWARNING worker.py:1072 -- This worker was asked to execute a function that it does not have registered. You may have to restart Ray.\n",
      "2020-11-06 06:41:20,588\tWARNING worker.py:1072 -- This worker was asked to execute a function that it does not have registered. You may have to restart Ray.\n",
      "2020-11-06 06:41:20,589\tWARNING worker.py:1072 -- This worker was asked to execute a function that it does not have registered. You may have to restart Ray.\n",
      "2020-11-06 06:41:20,590\tWARNING worker.py:1072 -- This worker was asked to execute a function that it does not have registered. You may have to restart Ray.\n",
      "2020-11-06 06:41:20,590\tWARNING worker.py:1072 -- This worker was asked to execute a function that it does not have registered. You may have to restart Ray.\n",
      "2020-11-06 06:41:20,591\tWARNING worker.py:1072 -- This worker was asked to execute a function that it does not have registered. You may have to restart Ray.\n",
      "2020-11-06 06:41:20,593\tWARNING worker.py:1072 -- This worker was asked to execute a function that it does not have registered. You may have to restart Ray.\n",
      "2020-11-06 06:41:20,593\tWARNING worker.py:1072 -- This worker was asked to execute a function that it does not have registered. You may have to restart Ray.\n",
      "2020-11-06 06:41:20,594\tWARNING worker.py:1072 -- This worker was asked to execute a function that it does not have registered. You may have to restart Ray.\n",
      "2020-11-06 06:41:20,595\tWARNING worker.py:1072 -- This worker was asked to execute a function that it does not have registered. You may have to restart Ray.\n",
      "2020-11-06 06:41:20,595\tWARNING worker.py:1072 -- This worker was asked to execute a function that it does not have registered. You may have to restart Ray.\n",
      "2020-11-06 06:41:20,596\tWARNING worker.py:1072 -- This worker was asked to execute a function that it does not have registered. You may have to restart Ray.\n",
      "2020-11-06 06:41:20,597\tWARNING worker.py:1072 -- This worker was asked to execute a function that it does not have registered. You may have to restart Ray.\n",
      "2020-11-06 06:41:20,599\tWARNING worker.py:1072 -- This worker was asked to execute a function that it does not have registered. You may have to restart Ray.\n"
     ]
    },
    {
     "name": "stdout",
     "output_type": "stream",
     "text": [
      "\u001b[31mtime cost for 11-th rep = 49.8 mins with coverage = 0.2552083333333333 and mean_width = 2.76741099357605\u001b[0m\n",
      "\u001b[31mres/ohio_cartpole_alpha_0.9N_20tau_0.8algae_alpha_2.5lr_0.005bs_32\u001b[0m\n"
     ]
    },
    {
     "name": "stderr",
     "output_type": "stream",
     "text": [
      "2020-11-06 06:44:37,799\tINFO services.py:1166 -- View the Ray dashboard at \u001b[1m\u001b[32mhttp://127.0.0.1:8265\u001b[39m\u001b[22m\n",
      "2020-11-06 06:45:18,360\tWARNING worker.py:1072 -- Warning: The remote function __main__.one_seed1 has size 257455839 when pickled. It will be stored in Redis, which could cause memory issues. This may mean that its definition uses a large array or other object.\n",
      "2020-11-06 06:45:32,034\tWARNING worker.py:1072 -- This worker was asked to execute a function that it does not have registered. You may have to restart Ray.\n",
      "2020-11-06 06:45:32,035\tWARNING worker.py:1072 -- This worker was asked to execute a function that it does not have registered. You may have to restart Ray.\n",
      "2020-11-06 06:45:32,035\tWARNING worker.py:1072 -- This worker was asked to execute a function that it does not have registered. You may have to restart Ray.\n",
      "2020-11-06 06:45:32,036\tWARNING worker.py:1072 -- This worker was asked to execute a function that it does not have registered. You may have to restart Ray.\n",
      "2020-11-06 06:45:32,037\tWARNING worker.py:1072 -- This worker was asked to execute a function that it does not have registered. You may have to restart Ray.\n",
      "2020-11-06 06:45:32,038\tWARNING worker.py:1072 -- This worker was asked to execute a function that it does not have registered. You may have to restart Ray.\n",
      "2020-11-06 06:45:32,039\tWARNING worker.py:1072 -- This worker was asked to execute a function that it does not have registered. You may have to restart Ray.\n",
      "2020-11-06 06:45:32,039\tWARNING worker.py:1072 -- This worker was asked to execute a function that it does not have registered. You may have to restart Ray.\n",
      "2020-11-06 06:45:32,040\tWARNING worker.py:1072 -- This worker was asked to execute a function that it does not have registered. You may have to restart Ray.\n",
      "2020-11-06 06:45:32,041\tWARNING worker.py:1072 -- This worker was asked to execute a function that it does not have registered. You may have to restart Ray.\n",
      "2020-11-06 06:45:32,042\tWARNING worker.py:1072 -- This worker was asked to execute a function that it does not have registered. You may have to restart Ray.\n",
      "2020-11-06 06:45:32,043\tWARNING worker.py:1072 -- This worker was asked to execute a function that it does not have registered. You may have to restart Ray.\n",
      "2020-11-06 06:45:32,047\tWARNING worker.py:1072 -- This worker was asked to execute a function that it does not have registered. You may have to restart Ray.\n",
      "2020-11-06 06:45:32,048\tWARNING worker.py:1072 -- This worker was asked to execute a function that it does not have registered. You may have to restart Ray.\n",
      "2020-11-06 06:45:32,049\tWARNING worker.py:1072 -- This worker was asked to execute a function that it does not have registered. You may have to restart Ray.\n",
      "2020-11-06 06:45:32,050\tWARNING worker.py:1072 -- This worker was asked to execute a function that it does not have registered. You may have to restart Ray.\n"
     ]
    },
    {
     "name": "stdout",
     "output_type": "stream",
     "text": [
      "\u001b[31mtime cost for 0-th rep = 4.2 mins with coverage = 0.375 and mean_width = 3.433257579803467\u001b[0m\n"
     ]
    },
    {
     "name": "stderr",
     "output_type": "stream",
     "text": [
      "2020-11-06 06:48:50,761\tINFO services.py:1166 -- View the Ray dashboard at \u001b[1m\u001b[32mhttp://127.0.0.1:8265\u001b[39m\u001b[22m\n",
      "2020-11-06 06:49:33,627\tWARNING worker.py:1072 -- Warning: The remote function __main__.one_seed1 has size 257455839 when pickled. It will be stored in Redis, which could cause memory issues. This may mean that its definition uses a large array or other object.\n",
      "2020-11-06 06:49:47,440\tWARNING worker.py:1072 -- This worker was asked to execute a function that it does not have registered. You may have to restart Ray.\n",
      "2020-11-06 06:49:47,442\tWARNING worker.py:1072 -- This worker was asked to execute a function that it does not have registered. You may have to restart Ray.\n",
      "2020-11-06 06:49:47,443\tWARNING worker.py:1072 -- This worker was asked to execute a function that it does not have registered. You may have to restart Ray.\n",
      "2020-11-06 06:49:47,444\tWARNING worker.py:1072 -- This worker was asked to execute a function that it does not have registered. You may have to restart Ray.\n",
      "2020-11-06 06:49:47,445\tWARNING worker.py:1072 -- This worker was asked to execute a function that it does not have registered. You may have to restart Ray.\n",
      "2020-11-06 06:49:47,446\tWARNING worker.py:1072 -- This worker was asked to execute a function that it does not have registered. You may have to restart Ray.\n",
      "2020-11-06 06:49:47,446\tWARNING worker.py:1072 -- This worker was asked to execute a function that it does not have registered. You may have to restart Ray.\n",
      "2020-11-06 06:49:47,447\tWARNING worker.py:1072 -- This worker was asked to execute a function that it does not have registered. You may have to restart Ray.\n",
      "2020-11-06 06:49:47,448\tWARNING worker.py:1072 -- This worker was asked to execute a function that it does not have registered. You may have to restart Ray.\n",
      "2020-11-06 06:49:47,449\tWARNING worker.py:1072 -- This worker was asked to execute a function that it does not have registered. You may have to restart Ray.\n",
      "2020-11-06 06:49:47,451\tWARNING worker.py:1072 -- This worker was asked to execute a function that it does not have registered. You may have to restart Ray.\n",
      "2020-11-06 06:49:47,452\tWARNING worker.py:1072 -- This worker was asked to execute a function that it does not have registered. You may have to restart Ray.\n",
      "2020-11-06 06:49:47,453\tWARNING worker.py:1072 -- This worker was asked to execute a function that it does not have registered. You may have to restart Ray.\n",
      "2020-11-06 06:49:47,454\tWARNING worker.py:1072 -- This worker was asked to execute a function that it does not have registered. You may have to restart Ray.\n",
      "2020-11-06 06:49:47,454\tWARNING worker.py:1072 -- This worker was asked to execute a function that it does not have registered. You may have to restart Ray.\n",
      "2020-11-06 06:49:47,455\tWARNING worker.py:1072 -- This worker was asked to execute a function that it does not have registered. You may have to restart Ray.\n"
     ]
    },
    {
     "name": "stdout",
     "output_type": "stream",
     "text": [
      "\u001b[31mtime cost for 1-th rep = 8.7 mins with coverage = 0.28125 and mean_width = 3.491969585418701\u001b[0m\n"
     ]
    },
    {
     "name": "stderr",
     "output_type": "stream",
     "text": [
      "2020-11-06 06:53:19,807\tINFO services.py:1166 -- View the Ray dashboard at \u001b[1m\u001b[32mhttp://127.0.0.1:8265\u001b[39m\u001b[22m\n",
      "2020-11-06 06:54:01,216\tWARNING worker.py:1072 -- Warning: The remote function __main__.one_seed1 has size 257455839 when pickled. It will be stored in Redis, which could cause memory issues. This may mean that its definition uses a large array or other object.\n",
      "2020-11-06 06:54:14,815\tWARNING worker.py:1072 -- This worker was asked to execute a function that it does not have registered. You may have to restart Ray.\n",
      "2020-11-06 06:54:14,815\tWARNING worker.py:1072 -- This worker was asked to execute a function that it does not have registered. You may have to restart Ray.\n",
      "2020-11-06 06:54:14,816\tWARNING worker.py:1072 -- This worker was asked to execute a function that it does not have registered. You may have to restart Ray.\n",
      "2020-11-06 06:54:14,817\tWARNING worker.py:1072 -- This worker was asked to execute a function that it does not have registered. You may have to restart Ray.\n",
      "2020-11-06 06:54:14,818\tWARNING worker.py:1072 -- This worker was asked to execute a function that it does not have registered. You may have to restart Ray.\n",
      "2020-11-06 06:54:14,818\tWARNING worker.py:1072 -- This worker was asked to execute a function that it does not have registered. You may have to restart Ray.\n",
      "2020-11-06 06:54:14,819\tWARNING worker.py:1072 -- This worker was asked to execute a function that it does not have registered. You may have to restart Ray.\n",
      "2020-11-06 06:54:14,819\tWARNING worker.py:1072 -- This worker was asked to execute a function that it does not have registered. You may have to restart Ray.\n",
      "2020-11-06 06:54:14,820\tWARNING worker.py:1072 -- This worker was asked to execute a function that it does not have registered. You may have to restart Ray.\n",
      "2020-11-06 06:54:14,820\tWARNING worker.py:1072 -- This worker was asked to execute a function that it does not have registered. You may have to restart Ray.\n",
      "2020-11-06 06:54:14,822\tWARNING worker.py:1072 -- This worker was asked to execute a function that it does not have registered. You may have to restart Ray.\n",
      "2020-11-06 06:54:14,822\tWARNING worker.py:1072 -- This worker was asked to execute a function that it does not have registered. You may have to restart Ray.\n",
      "2020-11-06 06:54:14,823\tWARNING worker.py:1072 -- This worker was asked to execute a function that it does not have registered. You may have to restart Ray.\n",
      "2020-11-06 06:54:14,823\tWARNING worker.py:1072 -- This worker was asked to execute a function that it does not have registered. You may have to restart Ray.\n",
      "2020-11-06 06:54:14,824\tWARNING worker.py:1072 -- This worker was asked to execute a function that it does not have registered. You may have to restart Ray.\n",
      "2020-11-06 06:54:14,825\tWARNING worker.py:1072 -- This worker was asked to execute a function that it does not have registered. You may have to restart Ray.\n"
     ]
    },
    {
     "name": "stdout",
     "output_type": "stream",
     "text": [
      "\u001b[31mtime cost for 2-th rep = 12.7 mins with coverage = 0.2708333333333333 and mean_width = 3.3449738025665283\u001b[0m\n"
     ]
    },
    {
     "name": "stderr",
     "output_type": "stream",
     "text": [
      "2020-11-06 06:57:22,129\tINFO services.py:1166 -- View the Ray dashboard at \u001b[1m\u001b[32mhttp://127.0.0.1:8265\u001b[39m\u001b[22m\n",
      "2020-11-06 06:58:05,820\tWARNING worker.py:1072 -- Warning: The remote function __main__.one_seed1 has size 257455839 when pickled. It will be stored in Redis, which could cause memory issues. This may mean that its definition uses a large array or other object.\n",
      "2020-11-06 06:58:19,370\tWARNING worker.py:1072 -- This worker was asked to execute a function that it does not have registered. You may have to restart Ray.\n",
      "2020-11-06 06:58:19,371\tWARNING worker.py:1072 -- This worker was asked to execute a function that it does not have registered. You may have to restart Ray.\n",
      "2020-11-06 06:58:19,371\tWARNING worker.py:1072 -- This worker was asked to execute a function that it does not have registered. You may have to restart Ray.\n",
      "2020-11-06 06:58:19,372\tWARNING worker.py:1072 -- This worker was asked to execute a function that it does not have registered. You may have to restart Ray.\n",
      "2020-11-06 06:58:19,372\tWARNING worker.py:1072 -- This worker was asked to execute a function that it does not have registered. You may have to restart Ray.\n",
      "2020-11-06 06:58:19,373\tWARNING worker.py:1072 -- This worker was asked to execute a function that it does not have registered. You may have to restart Ray.\n",
      "2020-11-06 06:58:19,374\tWARNING worker.py:1072 -- This worker was asked to execute a function that it does not have registered. You may have to restart Ray.\n",
      "2020-11-06 06:58:19,374\tWARNING worker.py:1072 -- This worker was asked to execute a function that it does not have registered. You may have to restart Ray.\n",
      "2020-11-06 06:58:19,375\tWARNING worker.py:1072 -- This worker was asked to execute a function that it does not have registered. You may have to restart Ray.\n",
      "2020-11-06 06:58:19,376\tWARNING worker.py:1072 -- This worker was asked to execute a function that it does not have registered. You may have to restart Ray.\n",
      "2020-11-06 06:58:19,377\tWARNING worker.py:1072 -- This worker was asked to execute a function that it does not have registered. You may have to restart Ray.\n",
      "2020-11-06 06:58:19,377\tWARNING worker.py:1072 -- This worker was asked to execute a function that it does not have registered. You may have to restart Ray.\n",
      "2020-11-06 06:58:19,378\tWARNING worker.py:1072 -- This worker was asked to execute a function that it does not have registered. You may have to restart Ray.\n",
      "2020-11-06 06:58:19,378\tWARNING worker.py:1072 -- This worker was asked to execute a function that it does not have registered. You may have to restart Ray.\n",
      "2020-11-06 06:58:19,379\tWARNING worker.py:1072 -- This worker was asked to execute a function that it does not have registered. You may have to restart Ray.\n",
      "2020-11-06 06:58:19,380\tWARNING worker.py:1072 -- This worker was asked to execute a function that it does not have registered. You may have to restart Ray.\n"
     ]
    },
    {
     "name": "stdout",
     "output_type": "stream",
     "text": [
      "\u001b[31mtime cost for 3-th rep = 17.1 mins with coverage = 0.265625 and mean_width = 3.326737403869629\u001b[0m\n"
     ]
    },
    {
     "name": "stderr",
     "output_type": "stream",
     "text": [
      "2020-11-06 07:01:43,299\tINFO services.py:1166 -- View the Ray dashboard at \u001b[1m\u001b[32mhttp://127.0.0.1:8265\u001b[39m\u001b[22m\n",
      "2020-11-06 07:02:24,738\tWARNING worker.py:1072 -- Warning: The remote function __main__.one_seed1 has size 257455839 when pickled. It will be stored in Redis, which could cause memory issues. This may mean that its definition uses a large array or other object.\n",
      "2020-11-06 07:02:38,263\tWARNING worker.py:1072 -- This worker was asked to execute a function that it does not have registered. You may have to restart Ray.\n",
      "2020-11-06 07:02:38,264\tWARNING worker.py:1072 -- This worker was asked to execute a function that it does not have registered. You may have to restart Ray.\n",
      "2020-11-06 07:02:38,265\tWARNING worker.py:1072 -- This worker was asked to execute a function that it does not have registered. You may have to restart Ray.\n",
      "2020-11-06 07:02:38,265\tWARNING worker.py:1072 -- This worker was asked to execute a function that it does not have registered. You may have to restart Ray.\n",
      "2020-11-06 07:02:38,266\tWARNING worker.py:1072 -- This worker was asked to execute a function that it does not have registered. You may have to restart Ray.\n",
      "2020-11-06 07:02:38,266\tWARNING worker.py:1072 -- This worker was asked to execute a function that it does not have registered. You may have to restart Ray.\n",
      "2020-11-06 07:02:38,267\tWARNING worker.py:1072 -- This worker was asked to execute a function that it does not have registered. You may have to restart Ray.\n",
      "2020-11-06 07:02:38,267\tWARNING worker.py:1072 -- This worker was asked to execute a function that it does not have registered. You may have to restart Ray.\n",
      "2020-11-06 07:02:38,268\tWARNING worker.py:1072 -- This worker was asked to execute a function that it does not have registered. You may have to restart Ray.\n",
      "2020-11-06 07:02:38,268\tWARNING worker.py:1072 -- This worker was asked to execute a function that it does not have registered. You may have to restart Ray.\n",
      "2020-11-06 07:02:38,270\tWARNING worker.py:1072 -- This worker was asked to execute a function that it does not have registered. You may have to restart Ray.\n",
      "2020-11-06 07:02:38,271\tWARNING worker.py:1072 -- This worker was asked to execute a function that it does not have registered. You may have to restart Ray.\n",
      "2020-11-06 07:02:38,271\tWARNING worker.py:1072 -- This worker was asked to execute a function that it does not have registered. You may have to restart Ray.\n",
      "2020-11-06 07:02:38,272\tWARNING worker.py:1072 -- This worker was asked to execute a function that it does not have registered. You may have to restart Ray.\n",
      "2020-11-06 07:02:38,272\tWARNING worker.py:1072 -- This worker was asked to execute a function that it does not have registered. You may have to restart Ray.\n",
      "2020-11-06 07:02:38,273\tWARNING worker.py:1072 -- This worker was asked to execute a function that it does not have registered. You may have to restart Ray.\n"
     ]
    },
    {
     "name": "stdout",
     "output_type": "stream",
     "text": [
      "\u001b[31mtime cost for 4-th rep = 21.1 mins with coverage = 0.275 and mean_width = 3.38692045211792\u001b[0m\n"
     ]
    },
    {
     "name": "stderr",
     "output_type": "stream",
     "text": [
      "2020-11-06 07:05:44,059\tINFO services.py:1166 -- View the Ray dashboard at \u001b[1m\u001b[32mhttp://127.0.0.1:8265\u001b[39m\u001b[22m\n",
      "2020-11-06 07:06:26,169\tWARNING worker.py:1072 -- Warning: The remote function __main__.one_seed1 has size 257455839 when pickled. It will be stored in Redis, which could cause memory issues. This may mean that its definition uses a large array or other object.\n",
      "2020-11-06 07:06:39,841\tWARNING worker.py:1072 -- This worker was asked to execute a function that it does not have registered. You may have to restart Ray.\n",
      "2020-11-06 07:06:39,842\tWARNING worker.py:1072 -- This worker was asked to execute a function that it does not have registered. You may have to restart Ray.\n",
      "2020-11-06 07:06:39,842\tWARNING worker.py:1072 -- This worker was asked to execute a function that it does not have registered. You may have to restart Ray.\n",
      "2020-11-06 07:06:39,843\tWARNING worker.py:1072 -- This worker was asked to execute a function that it does not have registered. You may have to restart Ray.\n",
      "2020-11-06 07:06:39,844\tWARNING worker.py:1072 -- This worker was asked to execute a function that it does not have registered. You may have to restart Ray.\n",
      "2020-11-06 07:06:39,844\tWARNING worker.py:1072 -- This worker was asked to execute a function that it does not have registered. You may have to restart Ray.\n",
      "2020-11-06 07:06:39,845\tWARNING worker.py:1072 -- This worker was asked to execute a function that it does not have registered. You may have to restart Ray.\n",
      "2020-11-06 07:06:39,846\tWARNING worker.py:1072 -- This worker was asked to execute a function that it does not have registered. You may have to restart Ray.\n",
      "2020-11-06 07:06:39,847\tWARNING worker.py:1072 -- This worker was asked to execute a function that it does not have registered. You may have to restart Ray.\n",
      "2020-11-06 07:06:39,847\tWARNING worker.py:1072 -- This worker was asked to execute a function that it does not have registered. You may have to restart Ray.\n",
      "2020-11-06 07:06:39,848\tWARNING worker.py:1072 -- This worker was asked to execute a function that it does not have registered. You may have to restart Ray.\n",
      "2020-11-06 07:06:39,849\tWARNING worker.py:1072 -- This worker was asked to execute a function that it does not have registered. You may have to restart Ray.\n",
      "2020-11-06 07:06:39,849\tWARNING worker.py:1072 -- This worker was asked to execute a function that it does not have registered. You may have to restart Ray.\n",
      "2020-11-06 07:06:39,850\tWARNING worker.py:1072 -- This worker was asked to execute a function that it does not have registered. You may have to restart Ray.\n",
      "2020-11-06 07:06:39,851\tWARNING worker.py:1072 -- This worker was asked to execute a function that it does not have registered. You may have to restart Ray.\n",
      "2020-11-06 07:06:39,851\tWARNING worker.py:1072 -- This worker was asked to execute a function that it does not have registered. You may have to restart Ray.\n"
     ]
    },
    {
     "name": "stdout",
     "output_type": "stream",
     "text": [
      "\u001b[31mtime cost for 5-th rep = 25.2 mins with coverage = 0.28125 and mean_width = 3.355083703994751\u001b[0m\n"
     ]
    },
    {
     "name": "stderr",
     "output_type": "stream",
     "text": [
      "2020-11-06 07:09:49,621\tINFO services.py:1166 -- View the Ray dashboard at \u001b[1m\u001b[32mhttp://127.0.0.1:8265\u001b[39m\u001b[22m\n",
      "2020-11-06 07:10:29,881\tWARNING worker.py:1072 -- Warning: The remote function __main__.one_seed1 has size 257455839 when pickled. It will be stored in Redis, which could cause memory issues. This may mean that its definition uses a large array or other object.\n",
      "2020-11-06 07:10:43,812\tWARNING worker.py:1072 -- This worker was asked to execute a function that it does not have registered. You may have to restart Ray.\n",
      "2020-11-06 07:10:43,814\tWARNING worker.py:1072 -- This worker was asked to execute a function that it does not have registered. You may have to restart Ray.\n",
      "2020-11-06 07:10:43,815\tWARNING worker.py:1072 -- This worker was asked to execute a function that it does not have registered. You may have to restart Ray.\n",
      "2020-11-06 07:10:43,816\tWARNING worker.py:1072 -- This worker was asked to execute a function that it does not have registered. You may have to restart Ray.\n",
      "2020-11-06 07:10:43,817\tWARNING worker.py:1072 -- This worker was asked to execute a function that it does not have registered. You may have to restart Ray.\n",
      "2020-11-06 07:10:43,818\tWARNING worker.py:1072 -- This worker was asked to execute a function that it does not have registered. You may have to restart Ray.\n",
      "2020-11-06 07:10:43,819\tWARNING worker.py:1072 -- This worker was asked to execute a function that it does not have registered. You may have to restart Ray.\n",
      "2020-11-06 07:10:43,820\tWARNING worker.py:1072 -- This worker was asked to execute a function that it does not have registered. You may have to restart Ray.\n",
      "2020-11-06 07:10:43,821\tWARNING worker.py:1072 -- This worker was asked to execute a function that it does not have registered. You may have to restart Ray.\n",
      "2020-11-06 07:10:43,821\tWARNING worker.py:1072 -- This worker was asked to execute a function that it does not have registered. You may have to restart Ray.\n",
      "2020-11-06 07:10:43,823\tWARNING worker.py:1072 -- This worker was asked to execute a function that it does not have registered. You may have to restart Ray.\n",
      "2020-11-06 07:10:43,824\tWARNING worker.py:1072 -- This worker was asked to execute a function that it does not have registered. You may have to restart Ray.\n",
      "2020-11-06 07:10:43,824\tWARNING worker.py:1072 -- This worker was asked to execute a function that it does not have registered. You may have to restart Ray.\n",
      "2020-11-06 07:10:43,825\tWARNING worker.py:1072 -- This worker was asked to execute a function that it does not have registered. You may have to restart Ray.\n",
      "2020-11-06 07:10:43,826\tWARNING worker.py:1072 -- This worker was asked to execute a function that it does not have registered. You may have to restart Ray.\n",
      "2020-11-06 07:10:43,826\tWARNING worker.py:1072 -- This worker was asked to execute a function that it does not have registered. You may have to restart Ray.\n"
     ]
    },
    {
     "name": "stdout",
     "output_type": "stream",
     "text": [
      "\u001b[31mtime cost for 6-th rep = 29.6 mins with coverage = 0.29464285714285715 and mean_width = 3.37927508354187\u001b[0m\n"
     ]
    },
    {
     "name": "stderr",
     "output_type": "stream",
     "text": [
      "2020-11-06 07:14:17,127\tINFO services.py:1166 -- View the Ray dashboard at \u001b[1m\u001b[32mhttp://127.0.0.1:8265\u001b[39m\u001b[22m\n",
      "2020-11-06 07:15:00,855\tWARNING worker.py:1072 -- Warning: The remote function __main__.one_seed1 has size 257455839 when pickled. It will be stored in Redis, which could cause memory issues. This may mean that its definition uses a large array or other object.\n",
      "2020-11-06 07:15:14,424\tWARNING worker.py:1072 -- This worker was asked to execute a function that it does not have registered. You may have to restart Ray.\n",
      "2020-11-06 07:15:14,426\tWARNING worker.py:1072 -- This worker was asked to execute a function that it does not have registered. You may have to restart Ray.\n",
      "2020-11-06 07:15:14,427\tWARNING worker.py:1072 -- This worker was asked to execute a function that it does not have registered. You may have to restart Ray.\n",
      "2020-11-06 07:15:14,428\tWARNING worker.py:1072 -- This worker was asked to execute a function that it does not have registered. You may have to restart Ray.\n",
      "2020-11-06 07:15:14,429\tWARNING worker.py:1072 -- This worker was asked to execute a function that it does not have registered. You may have to restart Ray.\n",
      "2020-11-06 07:15:14,430\tWARNING worker.py:1072 -- This worker was asked to execute a function that it does not have registered. You may have to restart Ray.\n",
      "2020-11-06 07:15:14,432\tWARNING worker.py:1072 -- This worker was asked to execute a function that it does not have registered. You may have to restart Ray.\n",
      "2020-11-06 07:15:14,433\tWARNING worker.py:1072 -- This worker was asked to execute a function that it does not have registered. You may have to restart Ray.\n",
      "2020-11-06 07:15:14,434\tWARNING worker.py:1072 -- This worker was asked to execute a function that it does not have registered. You may have to restart Ray.\n",
      "2020-11-06 07:15:14,435\tWARNING worker.py:1072 -- This worker was asked to execute a function that it does not have registered. You may have to restart Ray.\n",
      "2020-11-06 07:15:14,436\tWARNING worker.py:1072 -- This worker was asked to execute a function that it does not have registered. You may have to restart Ray.\n",
      "2020-11-06 07:15:14,437\tWARNING worker.py:1072 -- This worker was asked to execute a function that it does not have registered. You may have to restart Ray.\n",
      "2020-11-06 07:15:14,438\tWARNING worker.py:1072 -- This worker was asked to execute a function that it does not have registered. You may have to restart Ray.\n",
      "2020-11-06 07:15:14,438\tWARNING worker.py:1072 -- This worker was asked to execute a function that it does not have registered. You may have to restart Ray.\n",
      "2020-11-06 07:15:14,439\tWARNING worker.py:1072 -- This worker was asked to execute a function that it does not have registered. You may have to restart Ray.\n",
      "2020-11-06 07:15:14,440\tWARNING worker.py:1072 -- This worker was asked to execute a function that it does not have registered. You may have to restart Ray.\n"
     ]
    },
    {
     "name": "stdout",
     "output_type": "stream",
     "text": [
      "\u001b[31mtime cost for 7-th rep = 33.8 mins with coverage = 0.296875 and mean_width = 3.392108917236328\u001b[0m\n"
     ]
    },
    {
     "name": "stderr",
     "output_type": "stream",
     "text": [
      "2020-11-06 07:18:24,422\tINFO services.py:1166 -- View the Ray dashboard at \u001b[1m\u001b[32mhttp://127.0.0.1:8265\u001b[39m\u001b[22m\n",
      "2020-11-06 07:19:06,235\tWARNING worker.py:1072 -- Warning: The remote function __main__.one_seed1 has size 257455839 when pickled. It will be stored in Redis, which could cause memory issues. This may mean that its definition uses a large array or other object.\n",
      "2020-11-06 07:19:20,305\tWARNING worker.py:1072 -- This worker was asked to execute a function that it does not have registered. You may have to restart Ray.\n",
      "2020-11-06 07:19:20,307\tWARNING worker.py:1072 -- This worker was asked to execute a function that it does not have registered. You may have to restart Ray.\n",
      "2020-11-06 07:19:20,307\tWARNING worker.py:1072 -- This worker was asked to execute a function that it does not have registered. You may have to restart Ray.\n",
      "2020-11-06 07:19:20,308\tWARNING worker.py:1072 -- This worker was asked to execute a function that it does not have registered. You may have to restart Ray.\n",
      "2020-11-06 07:19:20,311\tWARNING worker.py:1072 -- This worker was asked to execute a function that it does not have registered. You may have to restart Ray.\n",
      "2020-11-06 07:19:20,311\tWARNING worker.py:1072 -- This worker was asked to execute a function that it does not have registered. You may have to restart Ray.\n",
      "2020-11-06 07:19:20,312\tWARNING worker.py:1072 -- This worker was asked to execute a function that it does not have registered. You may have to restart Ray.\n",
      "2020-11-06 07:19:20,313\tWARNING worker.py:1072 -- This worker was asked to execute a function that it does not have registered. You may have to restart Ray.\n",
      "2020-11-06 07:19:20,314\tWARNING worker.py:1072 -- This worker was asked to execute a function that it does not have registered. You may have to restart Ray.\n",
      "2020-11-06 07:19:20,315\tWARNING worker.py:1072 -- This worker was asked to execute a function that it does not have registered. You may have to restart Ray.\n",
      "2020-11-06 07:19:20,315\tWARNING worker.py:1072 -- This worker was asked to execute a function that it does not have registered. You may have to restart Ray.\n",
      "2020-11-06 07:19:20,316\tWARNING worker.py:1072 -- This worker was asked to execute a function that it does not have registered. You may have to restart Ray.\n",
      "2020-11-06 07:19:20,316\tWARNING worker.py:1072 -- This worker was asked to execute a function that it does not have registered. You may have to restart Ray.\n",
      "2020-11-06 07:19:20,317\tWARNING worker.py:1072 -- This worker was asked to execute a function that it does not have registered. You may have to restart Ray.\n",
      "2020-11-06 07:19:20,317\tWARNING worker.py:1072 -- This worker was asked to execute a function that it does not have registered. You may have to restart Ray.\n",
      "2020-11-06 07:19:20,319\tWARNING worker.py:1072 -- This worker was asked to execute a function that it does not have registered. You may have to restart Ray.\n"
     ]
    },
    {
     "name": "stdout",
     "output_type": "stream",
     "text": [
      "\u001b[31mtime cost for 8-th rep = 38.0 mins with coverage = 0.2777777777777778 and mean_width = 3.426571846008301\u001b[0m\n"
     ]
    },
    {
     "name": "stderr",
     "output_type": "stream",
     "text": [
      "2020-11-06 07:22:35,818\tINFO services.py:1166 -- View the Ray dashboard at \u001b[1m\u001b[32mhttp://127.0.0.1:8265\u001b[39m\u001b[22m\n",
      "2020-11-06 07:23:18,142\tWARNING worker.py:1072 -- Warning: The remote function __main__.one_seed1 has size 257455839 when pickled. It will be stored in Redis, which could cause memory issues. This may mean that its definition uses a large array or other object.\n",
      "2020-11-06 07:23:32,185\tWARNING worker.py:1072 -- This worker was asked to execute a function that it does not have registered. You may have to restart Ray.\n",
      "2020-11-06 07:23:32,186\tWARNING worker.py:1072 -- This worker was asked to execute a function that it does not have registered. You may have to restart Ray.\n",
      "2020-11-06 07:23:32,187\tWARNING worker.py:1072 -- This worker was asked to execute a function that it does not have registered. You may have to restart Ray.\n",
      "2020-11-06 07:23:32,188\tWARNING worker.py:1072 -- This worker was asked to execute a function that it does not have registered. You may have to restart Ray.\n",
      "2020-11-06 07:23:32,189\tWARNING worker.py:1072 -- This worker was asked to execute a function that it does not have registered. You may have to restart Ray.\n",
      "2020-11-06 07:23:32,189\tWARNING worker.py:1072 -- This worker was asked to execute a function that it does not have registered. You may have to restart Ray.\n",
      "2020-11-06 07:23:32,190\tWARNING worker.py:1072 -- This worker was asked to execute a function that it does not have registered. You may have to restart Ray.\n",
      "2020-11-06 07:23:32,191\tWARNING worker.py:1072 -- This worker was asked to execute a function that it does not have registered. You may have to restart Ray.\n",
      "2020-11-06 07:23:32,191\tWARNING worker.py:1072 -- This worker was asked to execute a function that it does not have registered. You may have to restart Ray.\n",
      "2020-11-06 07:23:32,192\tWARNING worker.py:1072 -- This worker was asked to execute a function that it does not have registered. You may have to restart Ray.\n",
      "2020-11-06 07:23:32,193\tWARNING worker.py:1072 -- This worker was asked to execute a function that it does not have registered. You may have to restart Ray.\n",
      "2020-11-06 07:23:32,194\tWARNING worker.py:1072 -- This worker was asked to execute a function that it does not have registered. You may have to restart Ray.\n",
      "2020-11-06 07:23:32,195\tWARNING worker.py:1072 -- This worker was asked to execute a function that it does not have registered. You may have to restart Ray.\n",
      "2020-11-06 07:23:32,195\tWARNING worker.py:1072 -- This worker was asked to execute a function that it does not have registered. You may have to restart Ray.\n",
      "2020-11-06 07:23:32,196\tWARNING worker.py:1072 -- This worker was asked to execute a function that it does not have registered. You may have to restart Ray.\n",
      "2020-11-06 07:23:32,196\tWARNING worker.py:1072 -- This worker was asked to execute a function that it does not have registered. You may have to restart Ray.\n"
     ]
    },
    {
     "name": "stdout",
     "output_type": "stream",
     "text": [
      "\u001b[31mtime cost for 9-th rep = 42.3 mins with coverage = 0.3 and mean_width = 3.481968641281128\u001b[0m\n"
     ]
    },
    {
     "name": "stderr",
     "output_type": "stream",
     "text": [
      "2020-11-06 07:26:56,499\tINFO services.py:1166 -- View the Ray dashboard at \u001b[1m\u001b[32mhttp://127.0.0.1:8265\u001b[39m\u001b[22m\n",
      "2020-11-06 07:27:37,154\tWARNING worker.py:1072 -- Warning: The remote function __main__.one_seed1 has size 257455839 when pickled. It will be stored in Redis, which could cause memory issues. This may mean that its definition uses a large array or other object.\n",
      "2020-11-06 07:27:51,048\tWARNING worker.py:1072 -- This worker was asked to execute a function that it does not have registered. You may have to restart Ray.\n",
      "2020-11-06 07:27:51,049\tWARNING worker.py:1072 -- This worker was asked to execute a function that it does not have registered. You may have to restart Ray.\n",
      "2020-11-06 07:27:51,050\tWARNING worker.py:1072 -- This worker was asked to execute a function that it does not have registered. You may have to restart Ray.\n",
      "2020-11-06 07:27:51,051\tWARNING worker.py:1072 -- This worker was asked to execute a function that it does not have registered. You may have to restart Ray.\n",
      "2020-11-06 07:27:51,051\tWARNING worker.py:1072 -- This worker was asked to execute a function that it does not have registered. You may have to restart Ray.\n",
      "2020-11-06 07:27:51,052\tWARNING worker.py:1072 -- This worker was asked to execute a function that it does not have registered. You may have to restart Ray.\n",
      "2020-11-06 07:27:51,052\tWARNING worker.py:1072 -- This worker was asked to execute a function that it does not have registered. You may have to restart Ray.\n",
      "2020-11-06 07:27:51,053\tWARNING worker.py:1072 -- This worker was asked to execute a function that it does not have registered. You may have to restart Ray.\n",
      "2020-11-06 07:27:51,053\tWARNING worker.py:1072 -- This worker was asked to execute a function that it does not have registered. You may have to restart Ray.\n",
      "2020-11-06 07:27:51,055\tWARNING worker.py:1072 -- This worker was asked to execute a function that it does not have registered. You may have to restart Ray.\n",
      "2020-11-06 07:27:51,055\tWARNING worker.py:1072 -- This worker was asked to execute a function that it does not have registered. You may have to restart Ray.\n",
      "2020-11-06 07:27:51,056\tWARNING worker.py:1072 -- This worker was asked to execute a function that it does not have registered. You may have to restart Ray.\n",
      "2020-11-06 07:27:51,057\tWARNING worker.py:1072 -- This worker was asked to execute a function that it does not have registered. You may have to restart Ray.\n",
      "2020-11-06 07:27:51,057\tWARNING worker.py:1072 -- This worker was asked to execute a function that it does not have registered. You may have to restart Ray.\n",
      "2020-11-06 07:27:51,058\tWARNING worker.py:1072 -- This worker was asked to execute a function that it does not have registered. You may have to restart Ray.\n",
      "2020-11-06 07:27:51,058\tWARNING worker.py:1072 -- This worker was asked to execute a function that it does not have registered. You may have to restart Ray.\n"
     ]
    },
    {
     "name": "stdout",
     "output_type": "stream",
     "text": [
      "\u001b[31mtime cost for 10-th rep = 46.2 mins with coverage = 0.3125 and mean_width = 3.4309678077697754\u001b[0m\n"
     ]
    },
    {
     "name": "stderr",
     "output_type": "stream",
     "text": [
      "2020-11-06 07:30:51,603\tINFO services.py:1166 -- View the Ray dashboard at \u001b[1m\u001b[32mhttp://127.0.0.1:8265\u001b[39m\u001b[22m\n",
      "2020-11-06 07:31:33,882\tWARNING worker.py:1072 -- Warning: The remote function __main__.one_seed1 has size 257455839 when pickled. It will be stored in Redis, which could cause memory issues. This may mean that its definition uses a large array or other object.\n",
      "2020-11-06 07:31:47,600\tWARNING worker.py:1072 -- This worker was asked to execute a function that it does not have registered. You may have to restart Ray.\n",
      "2020-11-06 07:31:47,601\tWARNING worker.py:1072 -- This worker was asked to execute a function that it does not have registered. You may have to restart Ray.\n",
      "2020-11-06 07:31:47,602\tWARNING worker.py:1072 -- This worker was asked to execute a function that it does not have registered. You may have to restart Ray.\n",
      "2020-11-06 07:31:47,602\tWARNING worker.py:1072 -- This worker was asked to execute a function that it does not have registered. You may have to restart Ray.\n",
      "2020-11-06 07:31:47,603\tWARNING worker.py:1072 -- This worker was asked to execute a function that it does not have registered. You may have to restart Ray.\n",
      "2020-11-06 07:31:47,603\tWARNING worker.py:1072 -- This worker was asked to execute a function that it does not have registered. You may have to restart Ray.\n",
      "2020-11-06 07:31:47,604\tWARNING worker.py:1072 -- This worker was asked to execute a function that it does not have registered. You may have to restart Ray.\n",
      "2020-11-06 07:31:47,604\tWARNING worker.py:1072 -- This worker was asked to execute a function that it does not have registered. You may have to restart Ray.\n",
      "2020-11-06 07:31:47,605\tWARNING worker.py:1072 -- This worker was asked to execute a function that it does not have registered. You may have to restart Ray.\n",
      "2020-11-06 07:31:47,607\tWARNING worker.py:1072 -- This worker was asked to execute a function that it does not have registered. You may have to restart Ray.\n",
      "2020-11-06 07:31:47,607\tWARNING worker.py:1072 -- This worker was asked to execute a function that it does not have registered. You may have to restart Ray.\n",
      "2020-11-06 07:31:47,608\tWARNING worker.py:1072 -- This worker was asked to execute a function that it does not have registered. You may have to restart Ray.\n",
      "2020-11-06 07:31:47,608\tWARNING worker.py:1072 -- This worker was asked to execute a function that it does not have registered. You may have to restart Ray.\n",
      "2020-11-06 07:31:47,609\tWARNING worker.py:1072 -- This worker was asked to execute a function that it does not have registered. You may have to restart Ray.\n",
      "2020-11-06 07:31:47,610\tWARNING worker.py:1072 -- This worker was asked to execute a function that it does not have registered. You may have to restart Ray.\n",
      "2020-11-06 07:31:47,611\tWARNING worker.py:1072 -- This worker was asked to execute a function that it does not have registered. You may have to restart Ray.\n"
     ]
    },
    {
     "name": "stdout",
     "output_type": "stream",
     "text": [
      "\u001b[31mtime cost for 11-th rep = 50.6 mins with coverage = 0.3072916666666667 and mean_width = 3.4555938243865967\u001b[0m\n",
      "\u001b[31mres/ohio_cartpole_alpha_0.95N_20tau_0.8algae_alpha_2.5lr_0.005bs_32\u001b[0m\n"
     ]
    }
   ],
   "source": [
    "unique_setting = \"ohio_tau_Qs_coindice\"\n",
    "N = 20\n",
    "tau = 0.8\n",
    "###################################################################################################################\n",
    "n_gpu = 16\n",
    "rep = 200\n",
    "\n",
    "tp_path = \"target_policies/1003_gamma95_sd10/1003_gamma95_sd10_50\"\n",
    "########################################################################\n",
    "sd_G = 10\n",
    "T = 200\n",
    "gamma = .95\n",
    "################################################################################################################################################ \n",
    "###################################################### Default Settings ######################################################\n",
    "################################################################################################################################################\n",
    "setting = EST()[7:9] + EST()[10:13]+ \"_\"  + unique_setting + \"_\" + \"N\" + str(N) + \"_\" + \"T\" + str(T) + \"_\" + \"sd\" + str(sd_G)  + \"_\"  + \"tau\" + \"_\" + str(tau)\n",
    "printR(\"setting: {}\".format(setting))\n",
    "################################################################################################################################################\n",
    "\n",
    "####################################\n",
    "FQI_paras = {\"hiddens\" : [64, 64], \"gamma\" : gamma}\n",
    "pi1 = FQI.FQI(gpu_number = 0, **FQI_paras)\n",
    "pi1.model.load_weights(tp_path)\n",
    "pi_behva = my_gym.softmax_policy(pi1, tau)\n",
    "####################################\n",
    "ohio = Ohio.OhioSimulator(sd_G = sd_G, T = T, N = N, behav = pi_behva)\n",
    "V_true = ohio.eval_policy(pi = pi1, gamma = gamma, N = 10000)\n",
    "init_S = ohio.simu_init_S(seed = 0, N = 1000)\n",
    "ohio.eval_policy(pi = pi_behva, gamma = gamma, N = 1000)\n",
    "trajs_train_resp = Ohio.OhioSimulator(sd_G = sd_G, T = T, N = N * 500, behav = pi_behva).simu_one_seed(10000)\n",
    "trajs_train_resp = [trajs_train_resp[(i * N):((i + 1) * N)] for i in range(rep)]\n",
    "\n",
    "#########################################################################################################################\n",
    "#########################################################################################################################\n",
    "#########################################################################################################################\n",
    "alpha_CI = 0.9\n",
    "###########\n",
    "lr = 0.005\n",
    "batch_size = 32\n",
    "algae_alpha = 2.5\n",
    "ray.shutdown()\n",
    "a = now()\n",
    "res_all = []\n",
    "for i in range(rep // n_gpu):\n",
    "    @ray.remote(num_gpus=1)\n",
    "    def one_seed1(seed):\n",
    "        gpu_idx = seed % n_gpu\n",
    "        pi1 = FQI.FQI(gpu_number = gpu_idx, **FQI_paras)\n",
    "        pi1.model.load_weights(tp_path)\n",
    "        dataset = converter.convertDataset(trajs_train_resp[seed]\n",
    "                                      , min_A = 0, max_A = 1\n",
    "                                       , min_S = -5, max_S = 5)\n",
    "        CI = run_coin.coindice(dataset = dataset, pi1 = pi1, N = N, T = T, gamma = gamma\n",
    "                      , hidden_dims = (256, 256), gpu_number = gpu_idx\n",
    "                 , nu_learning_rate = lr, zeta_learning_rate = lr, weight_learning_rate = lr ### ????\n",
    "                 , nu_regularizer = 1, zeta_regularizer = 1 # NOT SENSITIVE\n",
    "                 , num_steps = 2000, batch_size = batch_size, alpha_CI = alpha_CI\n",
    "                 , print_loss = 0, print_freq = 50, print_prog = 0\n",
    "                 , primal_form = True, f_exponent = 1.5, algae_alpha = algae_alpha)\n",
    "        return CI\n",
    "    ray.init()\n",
    "    ###########\n",
    "    futures = [one_seed1.remote(j) for j in range(n_gpu * i, n_gpu * (i + 1))]\n",
    "    res = ray.get(futures)\n",
    "    ray.shutdown()\n",
    "    res_all.append(res)\n",
    "    arr_res_all = np.vstack(res_all)\n",
    "    coverage = (arr_res_all[:, 0] < -V_true) * (arr_res_all[:, 1] > -V_true)\n",
    "    mean_width = abs(np.mean(arr_res_all[:, 1] - arr_res_all[:, 0]))\n",
    "    printR(\"time cost for {}-th rep = {:.1f} mins with coverage = {} and mean_width = {}\".format(i, (now() - a) / 60\n",
    "                                                                                                 , sum(coverage) / len(coverage)\n",
    "                                                                                                , mean_width))\n",
    "res_this_setting = {\"CIs\" : arr_res_all\n",
    "                   , \"coverage\" : coverage\n",
    "                   , \"mean_width\" : mean_width}\n",
    "setting = \"ohio_\" + \"cartpole_\" + \"alpha_\" + str(alpha_CI) + \"N_\" + str(N) + \"tau_\" + str(tau) \n",
    "setting = setting + \"algae_alpha_\" + str(algae_alpha) + \"lr_\" + str(lr)  + \"bs_\" + str(batch_size)\n",
    "path = \"res/\" + setting\n",
    "printR(path)\n",
    "dump(res_this_setting, path)\n",
    "#########################################################################################################################\n",
    "#########################################################################################################################\n",
    "#########################################################################################################################\n",
    "\n",
    "alpha_CI = 0.95\n",
    "#########################################################################################################################\n",
    "lr = 0.005\n",
    "batch_size = 32\n",
    "algae_alpha = 2.5\n",
    "ray.shutdown()\n",
    "a = now()\n",
    "res_all = []\n",
    "for i in range(rep // n_gpu):\n",
    "    @ray.remote(num_gpus=1)\n",
    "    def one_seed1(seed):\n",
    "        gpu_idx = seed % n_gpu\n",
    "        pi1 = FQI.FQI(gpu_number = gpu_idx, **FQI_paras)\n",
    "        pi1.model.load_weights(tp_path)\n",
    "        dataset = converter.convertDataset(trajs_train_resp[seed]\n",
    "                                      , min_A = 0, max_A = 1\n",
    "                                       , min_S = -5, max_S = 5)\n",
    "        CI = run_coin.coindice(dataset = dataset, pi1 = pi1, N = N, T = T, gamma = gamma\n",
    "                      , hidden_dims = (256, 256), gpu_number = gpu_idx\n",
    "                 , nu_learning_rate = lr, zeta_learning_rate = lr, weight_learning_rate = lr ### ????\n",
    "                 , nu_regularizer = 1, zeta_regularizer = 1 # NOT SENSITIVE\n",
    "                 , num_steps = 2000, batch_size = batch_size, alpha_CI = alpha_CI\n",
    "                 , print_loss = 0, print_freq = 50, print_prog = 0\n",
    "                 , primal_form = True, f_exponent = 1.5, algae_alpha = algae_alpha)\n",
    "        return CI\n",
    "    ray.init()\n",
    "    ###########\n",
    "    futures = [one_seed1.remote(j) for j in range(n_gpu * i, n_gpu * (i + 1))]\n",
    "    res = ray.get(futures)\n",
    "    ray.shutdown()\n",
    "    res_all.append(res)\n",
    "    arr_res_all = np.vstack(res_all)\n",
    "    coverage = (arr_res_all[:, 0] < -V_true) * (arr_res_all[:, 1] > -V_true)\n",
    "    mean_width = abs(np.mean(arr_res_all[:, 1] - arr_res_all[:, 0]))\n",
    "    printR(\"time cost for {}-th rep = {:.1f} mins with coverage = {} and mean_width = {}\".format(i, (now() - a) / 60\n",
    "                                                                                                 , sum(coverage) / len(coverage)\n",
    "                                                                                                , mean_width))\n",
    "res_this_setting = {\"CIs\" : arr_res_all\n",
    "                   , \"coverage\" : coverage\n",
    "                   , \"mean_width\" : mean_width}\n",
    "setting = \"ohio_\" + \"cartpole_\" + \"alpha_\" + str(alpha_CI) + \"N_\" + str(N) + \"tau_\" + str(tau) \n",
    "setting = setting + \"algae_alpha_\" + str(algae_alpha) + \"lr_\" + str(lr)  + \"bs_\" + str(batch_size)\n",
    "path = \"res/\" + setting\n",
    "printR(path)\n",
    "dump(res_this_setting, path)"
   ]
  }
 ],
 "metadata": {
  "kernelspec": {
   "display_name": "conda_amazonei_tensorflow2_p36",
   "language": "python",
   "name": "conda_amazonei_tensorflow2_p36"
  },
  "language_info": {
   "codemirror_mode": {
    "name": "ipython",
    "version": 3
   },
   "file_extension": ".py",
   "mimetype": "text/x-python",
   "name": "python",
   "nbconvert_exporter": "python",
   "pygments_lexer": "ipython3",
   "version": "3.6.10"
  }
 },
 "nbformat": 4,
 "nbformat_minor": 4
}

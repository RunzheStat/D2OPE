{
 "cells": [
  {
   "cell_type": "code",
   "execution_count": null,
   "metadata": {},
   "outputs": [],
   "source": [
    "from _util import *\n",
    "import _Ohio_Simulator as Ohio\n",
    "import _RL.FQE as FQE_module\n",
    "import _RL.FQI as FQI\n",
    "import _RL.my_gym as my_gym\n",
    "import _TRIPLE as TRIPLE\n",
    "import _analyze as analyze\n",
    "reload(TRIPLE)\n",
    "os.environ[\"OMP_NUM_THREADS\"] = \"1\"\n",
    "os.environ[\"OPENBLAS_NUM_THREADS\"] = \"1\"\n",
    "###################################################################################################################\n",
    "unique_setting = \"ohio_tau_Qs\"\n",
    "n_gpu = 16\n",
    "\n",
    "rep = 200\n",
    "tau = 1\n",
    "N = 20\n",
    "\n",
    "tp_path = \"target_policies/1003_gamma95_sd10/1003_gamma95_sd10_50\"\n",
    "########################################################################\n",
    "sd_G = 10\n",
    "T = 200\n",
    "gamma = .95\n",
    "init_Q_ratio = 1\n",
    "FQE_paras = {\"lr\" : 2e-5, \"batch_size\" : 32, \"nn_verbose\" : 0, \"hiddens\" : 256\n",
    "             , \"verbose\" : 1, \"test_freq\" : 50\n",
    "             , \"eps\" : 0.0001, \"max_iter\" : 200, \"init_Q_ratio\" : init_Q_ratio\n",
    "             , \"max_depth\" : 50, \"n_estimators\" : 1000, \"min_samples_leaf\" : 10\n",
    "             ,  \"use_RF\" : 1}\n",
    "################################################################################################################################################ \n",
    "###################################################### Default Settings ######################################################\n",
    "################################################################################################################################################\n",
    "incomplete_ratio = 5\n",
    "hyperparameters = [sd_G, N, T, gamma, tau, init_Q_ratio, incomplete_ratio]\n",
    "################## estimate the target policy [fixed number of iterations?] ##################\n",
    "setting = EST()[7:9] + EST()[10:13]+ \"_\"  + unique_setting + \"_\" + \"N\" + str(N) + \"_\" + \"T\" + str(T) + \"_\" + \"sd\" + str(sd_G) + \"_\" + \"initQ\" + str(init_Q_ratio) + \"_\"  + \"tau\" + \"_\" + str(tau)\n",
    "printR(\"setting: {}\".format(setting))"
   ]
  },
  {
   "cell_type": "markdown",
   "metadata": {},
   "source": [
    "# N20 tau1"
   ]
  },
  {
   "cell_type": "code",
   "execution_count": null,
   "metadata": {},
   "outputs": [],
   "source": [
    "####################################\n",
    "FQI_paras = {\"hiddens\" : [64, 64], \"gamma\" : gamma}\n",
    "pi1 = FQI.FQI(gpu_number = 0, **FQI_paras)\n",
    "pi1.model.load_weights(tp_path)\n",
    "pi_behva = my_gym.softmax_policy(pi1, tau)\n",
    "####################################\n",
    "ohio = Ohio.OhioSimulator(sd_G = sd_G, T = T, N = N, behav = pi_behva)\n",
    "V_true = ohio.eval_policy(pi = pi1, gamma = gamma, N = 10000)\n",
    "init_S = ohio.simu_init_S(seed = 0, N = 1000)\n",
    "ohio.eval_policy(pi = pi_behva, gamma = gamma, N = 1000)\n",
    "######################################################################################## \n",
    "trajs_train_resp = Ohio.OhioSimulator(sd_G = sd_G, T = T, N = N * 500, behav = pi_behva).simu_one_seed(10000)\n",
    "trajs_train_resp = [trajs_train_resp[(i * N):((i + 1) * N)] for i in range(rep)]\n"
   ]
  },
  {
   "cell_type": "code",
   "execution_count": null,
   "metadata": {},
   "outputs": [],
   "source": [
    "rec = analyze.recorder()\n",
    "rec.hyper = hyperparameters\n",
    "for i in range(rep // n_gpu):\n",
    "    ###########\n",
    "    @ray.remote(num_gpus=1)\n",
    "    def one_seed1(seed):\n",
    "        gpu_idx = seed % n_gpu\n",
    "        pi1 = FQI.FQI(gpu_number = gpu_idx, **FQI_paras)\n",
    "        pi1.model.load_weights(tp_path)\n",
    "        trajs_train = trajs_train_resp[seed]\n",
    "        ############################ TRIPLE to estimate values ############################\n",
    "        are = TRIPLE.ARE(trajs_train, pi = pi1, gamma = gamma, gpu_number = gpu_idx, incomplete_ratio = incomplete_ratio, L = 2)\n",
    "        are.init_S = init_S \n",
    "        are.est_Q(**FQE_paras)\n",
    "#         are.load_Q(Q_values = Qs[seed])\n",
    "        are.est_w(h_dims = 512, batch_size = 256, lr = 0.0001, print_freq = 30, tolerance = 10, max_iter = 500, rep_loss = 5)\n",
    "        are.est_IS()\n",
    "        are.est_double_robust()\n",
    "        #######\n",
    "        are.est_cond_w(h_dims = 512, batch_size = 32, lr = 0.00005, print_freq = 30, tolerance = 10, max_iter = 500, rep_loss = 5)\n",
    "        are.est_triply_robust()  \n",
    "        are.est_quad_robust()\n",
    "        #######\n",
    "        printR(\"<<=== seed {} DONE! ===>>\".format(seed))\n",
    "        analyze.recorder().print_one_seed(V_true, are)\n",
    "        return [are.raw_Qs, are.DR_V, are.TR_V, are.QR_V]\n",
    "    ###########\n",
    "    ray.init()\n",
    "    futures = [one_seed1.remote(i) for i in range(n_gpu * i, n_gpu * (i + 1))]\n",
    "    res = ray.get(futures)\n",
    "    for j in range(n_gpu):\n",
    "        rec.update(V_true, are_details = res[j])\n",
    "    rec.analyze()\n",
    "    rec.save(\"res/\" + setting)\n",
    "    ray.shutdown()"
   ]
  }
 ],
 "metadata": {
  "kernelspec": {
   "display_name": "conda_tensorflow2_p36",
   "language": "python",
   "name": "conda_tensorflow2_p36"
  },
  "language_info": {
   "codemirror_mode": {
    "name": "ipython",
    "version": 3
   },
   "file_extension": ".py",
   "mimetype": "text/x-python",
   "name": "python",
   "nbconvert_exporter": "python",
   "pygments_lexer": "ipython3",
   "version": "3.6.10"
  }
 },
 "nbformat": 4,
 "nbformat_minor": 4
}
